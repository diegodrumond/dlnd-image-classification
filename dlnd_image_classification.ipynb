{
 "cells": [
  {
   "cell_type": "markdown",
   "metadata": {
    "collapsed": true,
    "deletable": true,
    "editable": true
   },
   "source": [
    "# Image Classification\n",
    "In this project, you'll classify images from the [CIFAR-10 dataset](https://www.cs.toronto.edu/~kriz/cifar.html).  The dataset consists of airplanes, dogs, cats, and other objects. You'll preprocess the images, then train a convolutional neural network on all the samples. The images need to be normalized and the labels need to be one-hot encoded.  You'll get to apply what you learned and build a convolutional, max pooling, dropout, and fully connected layers.  At the end, you'll get to see your neural network's predictions on the sample images.\n",
    "## Get the Data\n",
    "Run the following cell to download the [CIFAR-10 dataset for python](https://www.cs.toronto.edu/~kriz/cifar-10-python.tar.gz)."
   ]
  },
  {
   "cell_type": "code",
   "execution_count": 103,
   "metadata": {
    "collapsed": false,
    "deletable": true,
    "editable": true
   },
   "outputs": [
    {
     "name": "stdout",
     "output_type": "stream",
     "text": [
      "All files found!\n"
     ]
    }
   ],
   "source": [
    "\"\"\"\n",
    "DON'T MODIFY ANYTHING IN THIS CELL THAT IS BELOW THIS LINE\n",
    "\"\"\"\n",
    "from urllib.request import urlretrieve\n",
    "from os.path import isfile, isdir\n",
    "from tqdm import tqdm\n",
    "import problem_unittests as tests\n",
    "import tarfile\n",
    "\n",
    "cifar10_dataset_folder_path = 'cifar-10-batches-py'\n",
    "\n",
    "# Use Floyd's cifar-10 dataset if present\n",
    "floyd_cifar10_location = '/input/cifar-10/python.tar.gz'\n",
    "if isfile(floyd_cifar10_location):\n",
    "    tar_gz_path = floyd_cifar10_location\n",
    "else:\n",
    "    tar_gz_path = 'cifar-10-python.tar.gz'\n",
    "\n",
    "class DLProgress(tqdm):\n",
    "    last_block = 0\n",
    "\n",
    "    def hook(self, block_num=1, block_size=1, total_size=None):\n",
    "        self.total = total_size\n",
    "        self.update((block_num - self.last_block) * block_size)\n",
    "        self.last_block = block_num\n",
    "\n",
    "if not isfile(tar_gz_path):\n",
    "    with DLProgress(unit='B', unit_scale=True, miniters=1, desc='CIFAR-10 Dataset') as pbar:\n",
    "        urlretrieve(\n",
    "            'https://www.cs.toronto.edu/~kriz/cifar-10-python.tar.gz',\n",
    "            tar_gz_path,\n",
    "            pbar.hook)\n",
    "\n",
    "if not isdir(cifar10_dataset_folder_path):\n",
    "    with tarfile.open(tar_gz_path) as tar:\n",
    "        tar.extractall()\n",
    "        tar.close()\n",
    "\n",
    "\n",
    "tests.test_folder_path(cifar10_dataset_folder_path)"
   ]
  },
  {
   "cell_type": "markdown",
   "metadata": {
    "deletable": true,
    "editable": true
   },
   "source": [
    "## Explore the Data\n",
    "The dataset is broken into batches to prevent your machine from running out of memory.  The CIFAR-10 dataset consists of 5 batches, named `data_batch_1`, `data_batch_2`, etc.. Each batch contains the labels and images that are one of the following:\n",
    "* airplane\n",
    "* automobile\n",
    "* bird\n",
    "* cat\n",
    "* deer\n",
    "* dog\n",
    "* frog\n",
    "* horse\n",
    "* ship\n",
    "* truck\n",
    "\n",
    "Understanding a dataset is part of making predictions on the data.  Play around with the code cell below by changing the `batch_id` and `sample_id`. The `batch_id` is the id for a batch (1-5). The `sample_id` is the id for a image and label pair in the batch.\n",
    "\n",
    "Ask yourself \"What are all possible labels?\", \"What is the range of values for the image data?\", \"Are the labels in order or random?\".  Answers to questions like these will help you preprocess the data and end up with better predictions."
   ]
  },
  {
   "cell_type": "code",
   "execution_count": 107,
   "metadata": {
    "collapsed": false,
    "deletable": true,
    "editable": true
   },
   "outputs": [
    {
     "name": "stdout",
     "output_type": "stream",
     "text": [
      "\n",
      "Stats of batch 5:\n",
      "Samples: 10000\n",
      "Label Counts: {0: 1014, 1: 1014, 2: 952, 3: 1016, 4: 997, 5: 1025, 6: 980, 7: 977, 8: 1003, 9: 1022}\n",
      "First 20 Labels: [1, 8, 5, 1, 5, 7, 4, 3, 8, 2, 7, 2, 0, 1, 5, 9, 6, 2, 0, 8]\n",
      "\n",
      "Example of Image 299:\n",
      "Image - Min Value: 12 Max Value: 253\n",
      "Image - Shape: (32, 32, 3)\n",
      "Label - Label Id: 4 Name: deer\n"
     ]
    },
    {
     "data": {
      "image/png": "[encoded data removed]",
      "text/plain": [
       "<matplotlib.figure.Figure at 0x7fc12e19cb00>"
      ]
     },
     "metadata": {
      "image/png": {
       "height": 250,
       "width": 253
      }
     },
     "output_type": "display_data"
    }
   ],
   "source": [
    "%matplotlib inline\n",
    "%config InlineBackend.figure_format = 'retina'\n",
    "\n",
    "import helper\n",
    "import numpy as np\n",
    "\n",
    "# Explore the dataset\n",
    "batch_id = 5\n",
    "sample_id = 299\n",
    "helper.display_stats(cifar10_dataset_folder_path, batch_id, sample_id)"
   ]
  },
  {
   "cell_type": "markdown",
   "metadata": {
    "deletable": true,
    "editable": true
   },
   "source": [
    "## Implement Preprocess Functions\n",
    "### Normalize\n",
    "In the cell below, implement the `normalize` function to take in image data, `x`, and return it as a normalized Numpy array. The values should be in the range of 0 to 1, inclusive.  The return object should be the same shape as `x`."
   ]
  },
  {
   "cell_type": "code",
   "execution_count": 108,
   "metadata": {
    "collapsed": false,
    "deletable": true,
    "editable": true
   },
   "outputs": [
    {
     "name": "stdout",
     "output_type": "stream",
     "text": [
      "Tests Passed\n"
     ]
    }
   ],
   "source": [
    "def normalize(x):\n",
    "    \"\"\"\n",
    "    Normalize a list of sample image data in the range of 0 to 1\n",
    "    : x: List of image data.  The image shape is (32, 32, 3)\n",
    "    : return: Numpy array of normalize data\n",
    "    \"\"\"\n",
    "    # TODO: Implement Function\n",
    "    a = 0\n",
    "    b = 255\n",
    "    return (x - a) / (b - a)\n",
    "\n",
    "\n",
    "\"\"\"\n",
    "DON'T MODIFY ANYTHING IN THIS CELL THAT IS BELOW THIS LINE\n",
    "\"\"\"\n",
    "tests.test_normalize(normalize)"
   ]
  },
  {
   "cell_type": "markdown",
   "metadata": {
    "deletable": true,
    "editable": true
   },
   "source": [
    "### One-hot encode\n",
    "Just like the previous code cell, you'll be implementing a function for preprocessing.  This time, you'll implement the `one_hot_encode` function. The input, `x`, are a list of labels.  Implement the function to return the list of labels as One-Hot encoded Numpy array.  The possible values for labels are 0 to 9. The one-hot encoding function should return the same encoding for each value between each call to `one_hot_encode`.  Make sure to save the map of encodings outside the function.\n",
    "\n",
    "Hint: Don't reinvent the wheel."
   ]
  },
  {
   "cell_type": "code",
   "execution_count": 109,
   "metadata": {
    "collapsed": false,
    "deletable": true,
    "editable": true
   },
   "outputs": [
    {
     "name": "stdout",
     "output_type": "stream",
     "text": [
      "Tests Passed\n"
     ]
    }
   ],
   "source": [
    "def one_hot_encode(x):\n",
    "    \"\"\"\n",
    "    One hot encode a list of sample labels. Return a one-hot encoded vector for each label.\n",
    "    : x: List of sample Labels\n",
    "    : return: Numpy array of one-hot encoded labels\n",
    "    \"\"\"\n",
    "    # TODO: Implement Function\n",
    "    y = np.zeros((len(x), 10))\n",
    "    for i in range(len(x)):\n",
    "        y[i, x[i]] = 1\n",
    "    return y\n",
    "\n",
    "\n",
    "\"\"\"\n",
    "DON'T MODIFY ANYTHING IN THIS CELL THAT IS BELOW THIS LINE\n",
    "\"\"\"\n",
    "tests.test_one_hot_encode(one_hot_encode)"
   ]
  },
  {
   "cell_type": "markdown",
   "metadata": {
    "deletable": true,
    "editable": true
   },
   "source": [
    "### Randomize Data\n",
    "As you saw from exploring the data above, the order of the samples are randomized.  It doesn't hurt to randomize it again, but you don't need to for this dataset."
   ]
  },
  {
   "cell_type": "markdown",
   "metadata": {
    "deletable": true,
    "editable": true
   },
   "source": [
    "## Preprocess all the data and save it\n",
    "Running the code cell below will preprocess all the CIFAR-10 data and save it to file. The code below also uses 10% of the training data for validation."
   ]
  },
  {
   "cell_type": "code",
   "execution_count": 110,
   "metadata": {
    "collapsed": true,
    "deletable": true,
    "editable": true
   },
   "outputs": [],
   "source": [
    "\"\"\"\n",
    "DON'T MODIFY ANYTHING IN THIS CELL\n",
    "\"\"\"\n",
    "# Preprocess Training, Validation, and Testing Data\n",
    "helper.preprocess_and_save_data(cifar10_dataset_folder_path, normalize, one_hot_encode)"
   ]
  },
  {
   "cell_type": "markdown",
   "metadata": {
    "deletable": true,
    "editable": true
   },
   "source": [
    "# Check Point\n",
    "This is your first checkpoint.  If you ever decide to come back to this notebook or have to restart the notebook, you can start from here.  The preprocessed data has been saved to disk."
   ]
  },
  {
   "cell_type": "code",
   "execution_count": 111,
   "metadata": {
    "collapsed": true,
    "deletable": true,
    "editable": true
   },
   "outputs": [],
   "source": [
    "\"\"\"\n",
    "DON'T MODIFY ANYTHING IN THIS CELL\n",
    "\"\"\"\n",
    "import pickle\n",
    "import problem_unittests as tests\n",
    "import helper\n",
    "\n",
    "# Load the Preprocessed Validation data\n",
    "valid_features, valid_labels = pickle.load(open('preprocess_validation.p', mode='rb'))"
   ]
  },
  {
   "cell_type": "markdown",
   "metadata": {
    "deletable": true,
    "editable": true
   },
   "source": [
    "## Build the network\n",
    "For the neural network, you'll build each layer into a function.  Most of the code you've seen has been outside of functions. To test your code more thoroughly, we require that you put each layer in a function.  This allows us to give you better feedback and test for simple mistakes using our unittests before you submit your project.\n",
    "\n",
    ">**Note:** If you're finding it hard to dedicate enough time for this course each week, we've provided a small shortcut to this part of the project. In the next couple of problems, you'll have the option to use classes from the [TensorFlow Layers](https://www.tensorflow.org/api_docs/python/tf/layers) or [TensorFlow Layers (contrib)](https://www.tensorflow.org/api_guides/python/contrib.layers) packages to build each layer, except the layers you build in the \"Convolutional and Max Pooling Layer\" section.  TF Layers is similar to Keras's and TFLearn's abstraction to layers, so it's easy to pickup.\n",
    "\n",
    ">However, if you would like to get the most out of this course, try to solve all the problems _without_ using anything from the TF Layers packages. You **can** still use classes from other packages that happen to have the same name as ones you find in TF Layers! For example, instead of using the TF Layers version of the `conv2d` class, [tf.layers.conv2d](https://www.tensorflow.org/api_docs/python/tf/layers/conv2d), you would want to use the TF Neural Network version of `conv2d`, [tf.nn.conv2d](https://www.tensorflow.org/api_docs/python/tf/nn/conv2d). \n",
    "\n",
    "Let's begin!\n",
    "\n",
    "### Input\n",
    "The neural network needs to read the image data, one-hot encoded labels, and dropout keep probability. Implement the following functions\n",
    "* Implement `neural_net_image_input`\n",
    " * Return a [TF Placeholder](https://www.tensorflow.org/api_docs/python/tf/placeholder)\n",
    " * Set the shape using `image_shape` with batch size set to `None`.\n",
    " * Name the TensorFlow placeholder \"x\" using the TensorFlow `name` parameter in the [TF Placeholder](https://www.tensorflow.org/api_docs/python/tf/placeholder).\n",
    "* Implement `neural_net_label_input`\n",
    " * Return a [TF Placeholder](https://www.tensorflow.org/api_docs/python/tf/placeholder)\n",
    " * Set the shape using `n_classes` with batch size set to `None`.\n",
    " * Name the TensorFlow placeholder \"y\" using the TensorFlow `name` parameter in the [TF Placeholder](https://www.tensorflow.org/api_docs/python/tf/placeholder).\n",
    "* Implement `neural_net_keep_prob_input`\n",
    " * Return a [TF Placeholder](https://www.tensorflow.org/api_docs/python/tf/placeholder) for dropout keep probability.\n",
    " * Name the TensorFlow placeholder \"keep_prob\" using the TensorFlow `name` parameter in the [TF Placeholder](https://www.tensorflow.org/api_docs/python/tf/placeholder).\n",
    "\n",
    "These names will be used at the end of the project to load your saved model.\n",
    "\n",
    "Note: `None` for shapes in TensorFlow allow for a dynamic size."
   ]
  },
  {
   "cell_type": "code",
   "execution_count": 112,
   "metadata": {
    "collapsed": false,
    "deletable": true,
    "editable": true
   },
   "outputs": [
    {
     "name": "stdout",
     "output_type": "stream",
     "text": [
      "Image Input Tests Passed.\n",
      "Label Input Tests Passed.\n",
      "Keep Prob Tests Passed.\n"
     ]
    }
   ],
   "source": [
    "import tensorflow as tf\n",
    "\n",
    "def neural_net_image_input(image_shape):\n",
    "    \"\"\"\n",
    "    Return a Tensor for a batch of image input\n",
    "    : image_shape: Shape of the images\n",
    "    : return: Tensor for image input.\n",
    "    \"\"\"\n",
    "    # TODO: Implement Function\n",
    "    return tf.placeholder(tf.float32, [None, image_shape[0], image_shape[1], 3], name='x')\n",
    "\n",
    "\n",
    "def neural_net_label_input(n_classes):\n",
    "    \"\"\"\n",
    "    Return a Tensor for a batch of label input\n",
    "    : n_classes: Number of classes\n",
    "    : return: Tensor for label input.\n",
    "    \"\"\"\n",
    "    # TODO: Implement Function\n",
    "    return tf.placeholder(tf.float32, [None, n_classes], name='y')\n",
    "\n",
    "\n",
    "def neural_net_keep_prob_input():\n",
    "    \"\"\"\n",
    "    Return a Tensor for keep probability\n",
    "    : return: Tensor for keep probability.\n",
    "    \"\"\"\n",
    "    # TODO: Implement Function\n",
    "    return tf.placeholder(tf.float32, name='keep_prob')\n",
    "\n",
    "\n",
    "\"\"\"\n",
    "DON'T MODIFY ANYTHING IN THIS CELL THAT IS BELOW THIS LINE\n",
    "\"\"\"\n",
    "tf.reset_default_graph()\n",
    "tests.test_nn_image_inputs(neural_net_image_input)\n",
    "tests.test_nn_label_inputs(neural_net_label_input)\n",
    "tests.test_nn_keep_prob_inputs(neural_net_keep_prob_input)"
   ]
  },
  {
   "cell_type": "markdown",
   "metadata": {
    "deletable": true,
    "editable": true
   },
   "source": [
    "### Convolution and Max Pooling Layer\n",
    "Convolution layers have a lot of success with images. For this code cell, you should implement the function `conv2d_maxpool` to apply convolution then max pooling:\n",
    "* Create the weight and bias using `conv_ksize`, `conv_num_outputs` and the shape of `x_tensor`.\n",
    "* Apply a convolution to `x_tensor` using weight and `conv_strides`.\n",
    " * We recommend you use same padding, but you're welcome to use any padding.\n",
    "* Add bias\n",
    "* Add a nonlinear activation to the convolution.\n",
    "* Apply Max Pooling using `pool_ksize` and `pool_strides`.\n",
    " * We recommend you use same padding, but you're welcome to use any padding.\n",
    "\n",
    "**Note:** You **can't** use [TensorFlow Layers](https://www.tensorflow.org/api_docs/python/tf/layers) or [TensorFlow Layers (contrib)](https://www.tensorflow.org/api_guides/python/contrib.layers) for **this** layer, but you can still use TensorFlow's [Neural Network](https://www.tensorflow.org/api_docs/python/tf/nn) package. You may still use the shortcut option for all the **other** layers."
   ]
  },
  {
   "cell_type": "code",
   "execution_count": 113,
   "metadata": {
    "collapsed": false,
    "deletable": true,
    "editable": true
   },
   "outputs": [
    {
     "name": "stdout",
     "output_type": "stream",
     "text": [
      "Tests Passed\n"
     ]
    }
   ],
   "source": [
    "def conv2d_maxpool(x_tensor, conv_num_outputs, conv_ksize, conv_strides, pool_ksize, pool_strides):\n",
    "    \"\"\"\n",
    "    Apply convolution then max pooling to x_tensor\n",
    "    :param x_tensor: TensorFlow Tensor\n",
    "    :param conv_num_outputs: Number of outputs for the convolutional layer\n",
    "    :param conv_ksize: kernal size 2-D Tuple for the convolutional layer\n",
    "    :param conv_strides: Stride 2-D Tuple for convolution\n",
    "    :param pool_ksize: kernal size 2-D Tuple for pool\n",
    "    :param pool_strides: Stride 2-D Tuple for pool\n",
    "    : return: A tensor that represents convolution and max pooling of x_tensor\n",
    "    \"\"\"\n",
    "    # TODO: Implement Function\n",
    "    input_depth = x_tensor.get_shape().as_list()[-1]\n",
    "    weights = tf.Variable(tf.random_normal(\n",
    "        [conv_ksize[0], conv_ksize[1], input_depth, conv_num_outputs],\n",
    "        stddev=0.1\n",
    "    )) \n",
    "    bias = tf.Variable(tf.zeros(conv_num_outputs))\n",
    "    conv = tf.nn.conv2d(x_tensor, weights, [1, conv_strides[0], conv_strides[1], 1], 'SAME') + bias\n",
    "    conv = tf.nn.relu(conv)\n",
    "    return tf.nn.max_pool(\n",
    "        conv,\n",
    "        [1, pool_ksize[0], pool_ksize[1], 1],\n",
    "        [1, pool_strides[0], pool_strides[1], 1],\n",
    "        'SAME'\n",
    "    )\n",
    "\n",
    "\n",
    "\"\"\"\n",
    "DON'T MODIFY ANYTHING IN THIS CELL THAT IS BELOW THIS LINE\n",
    "\"\"\"\n",
    "tests.test_con_pool(conv2d_maxpool)"
   ]
  },
  {
   "cell_type": "markdown",
   "metadata": {
    "deletable": true,
    "editable": true
   },
   "source": [
    "### Flatten Layer\n",
    "Implement the `flatten` function to change the dimension of `x_tensor` from a 4-D tensor to a 2-D tensor.  The output should be the shape (*Batch Size*, *Flattened Image Size*). Shortcut option: you can use classes from the [TensorFlow Layers](https://www.tensorflow.org/api_docs/python/tf/layers) or [TensorFlow Layers (contrib)](https://www.tensorflow.org/api_guides/python/contrib.layers) packages for this layer. For more of a challenge, only use other TensorFlow packages."
   ]
  },
  {
   "cell_type": "code",
   "execution_count": 114,
   "metadata": {
    "collapsed": false,
    "deletable": true,
    "editable": true
   },
   "outputs": [
    {
     "name": "stdout",
     "output_type": "stream",
     "text": [
      "Tests Passed\n"
     ]
    }
   ],
   "source": [
    "def flatten(x_tensor):\n",
    "    \"\"\"\n",
    "    Flatten x_tensor to (Batch Size, Flattened Image Size)\n",
    "    : x_tensor: A tensor of size (Batch Size, ...), where ... are the image dimensions.\n",
    "    : return: A tensor of size (Batch Size, Flattened Image Size).\n",
    "    \"\"\"\n",
    "    # TODO: Implement Function\n",
    "    shape = x_tensor.get_shape().as_list()\n",
    "    return tf.reshape(x_tensor, [-1, np.prod(shape[1:])])\n",
    "\n",
    "\n",
    "\"\"\"\n",
    "DON'T MODIFY ANYTHING IN THIS CELL THAT IS BELOW THIS LINE\n",
    "\"\"\"\n",
    "tests.test_flatten(flatten)"
   ]
  },
  {
   "cell_type": "markdown",
   "metadata": {
    "deletable": true,
    "editable": true
   },
   "source": [
    "### Fully-Connected Layer\n",
    "Implement the `fully_conn` function to apply a fully connected layer to `x_tensor` with the shape (*Batch Size*, *num_outputs*). Shortcut option: you can use classes from the [TensorFlow Layers](https://www.tensorflow.org/api_docs/python/tf/layers) or [TensorFlow Layers (contrib)](https://www.tensorflow.org/api_guides/python/contrib.layers) packages for this layer. For more of a challenge, only use other TensorFlow packages."
   ]
  },
  {
   "cell_type": "code",
   "execution_count": 115,
   "metadata": {
    "collapsed": false,
    "deletable": true,
    "editable": true
   },
   "outputs": [
    {
     "name": "stdout",
     "output_type": "stream",
     "text": [
      "Tests Passed\n"
     ]
    }
   ],
   "source": [
    "def fully_conn(x_tensor, num_outputs):\n",
    "    \"\"\"\n",
    "    Apply a fully connected layer to x_tensor using weight and bias\n",
    "    : x_tensor: A 2-D tensor where the first dimension is batch size.\n",
    "    : num_outputs: The number of output that the new tensor should be.\n",
    "    : return: A 2-D tensor where the second dimension is num_outputs.\n",
    "    \"\"\"\n",
    "    # TODO: Implement Function\n",
    "    shape = x_tensor.get_shape().as_list()\n",
    "    weights = tf.Variable(tf.random_normal([shape[-1], num_outputs], stddev=0.1))\n",
    "    bias = tf.Variable(tf.zeros(num_outputs)) + 0.11\n",
    "    return tf.nn.relu(tf.add(tf.matmul(x_tensor, weights), bias))\n",
    "\n",
    "\n",
    "\"\"\"\n",
    "DON'T MODIFY ANYTHING IN THIS CELL THAT IS BELOW THIS LINE\n",
    "\"\"\"\n",
    "tests.test_fully_conn(fully_conn)"
   ]
  },
  {
   "cell_type": "markdown",
   "metadata": {
    "deletable": true,
    "editable": true
   },
   "source": [
    "### Output Layer\n",
    "Implement the `output` function to apply a fully connected layer to `x_tensor` with the shape (*Batch Size*, *num_outputs*). Shortcut option: you can use classes from the [TensorFlow Layers](https://www.tensorflow.org/api_docs/python/tf/layers) or [TensorFlow Layers (contrib)](https://www.tensorflow.org/api_guides/python/contrib.layers) packages for this layer. For more of a challenge, only use other TensorFlow packages.\n",
    "\n",
    "**Note:** Activation, softmax, or cross entropy should **not** be applied to this."
   ]
  },
  {
   "cell_type": "code",
   "execution_count": 116,
   "metadata": {
    "collapsed": false,
    "deletable": true,
    "editable": true
   },
   "outputs": [
    {
     "name": "stdout",
     "output_type": "stream",
     "text": [
      "Tests Passed\n"
     ]
    }
   ],
   "source": [
    "def output(x_tensor, num_outputs):\n",
    "    \"\"\"\n",
    "    Apply a output layer to x_tensor using weight and bias\n",
    "    : x_tensor: A 2-D tensor where the first dimension is batch size.\n",
    "    : num_outputs: The number of output that the new tensor should be.\n",
    "    : return: A 2-D tensor where the second dimension is num_outputs.\n",
    "    \"\"\"\n",
    "    # TODO: Implement Function\n",
    "    shape = x_tensor.get_shape().as_list()\n",
    "    weights = tf.Variable(tf.random_normal([shape[-1], num_outputs]))\n",
    "    bias = tf.Variable(tf.zeros(num_outputs))\n",
    "    return tf.add(tf.matmul(x_tensor, weights), bias)\n",
    "\n",
    "\n",
    "\"\"\"\n",
    "DON'T MODIFY ANYTHING IN THIS CELL THAT IS BELOW THIS LINE\n",
    "\"\"\"\n",
    "tests.test_output(output)"
   ]
  },
  {
   "cell_type": "markdown",
   "metadata": {
    "deletable": true,
    "editable": true
   },
   "source": [
    "### Create Convolutional Model\n",
    "Implement the function `conv_net` to create a convolutional neural network model. The function takes in a batch of images, `x`, and outputs logits.  Use the layers you created above to create this model:\n",
    "\n",
    "* Apply 1, 2, or 3 Convolution and Max Pool layers\n",
    "* Apply a Flatten Layer\n",
    "* Apply 1, 2, or 3 Fully Connected Layers\n",
    "* Apply an Output Layer\n",
    "* Return the output\n",
    "* Apply [TensorFlow's Dropout](https://www.tensorflow.org/api_docs/python/tf/nn/dropout) to one or more layers in the model using `keep_prob`. "
   ]
  },
  {
   "cell_type": "code",
   "execution_count": 117,
   "metadata": {
    "collapsed": false,
    "deletable": true,
    "editable": true
   },
   "outputs": [
    {
     "name": "stdout",
     "output_type": "stream",
     "text": [
      "Neural Network Built!\n"
     ]
    }
   ],
   "source": [
    "def conv_net(x, keep_prob):\n",
    "    \"\"\"\n",
    "    Create a convolutional neural network model\n",
    "    : x: Placeholder tensor that holds image data.\n",
    "    : keep_prob: Placeholder tensor that hold dropout keep probability.\n",
    "    : return: Tensor that represents logits\n",
    "    \"\"\"\n",
    "    # TODO: Apply 1, 2, or 3 Convolution and Max Pool layers\n",
    "    #    Play around with different number of outputs, kernel size and stride\n",
    "    # Function Definition from Above:\n",
    "    #    conv2d_maxpool(x_tensor, conv_num_outputs, conv_ksize, conv_strides, pool_ksize, pool_strides)\n",
    "    net_model = conv2d_maxpool(x, 64, [3, 3], [1, 1], [3, 3], [2, 2])\n",
    "    tf.nn.dropout(net_model, keep_prob=keep_prob)\n",
    "\n",
    "    # TODO: Apply a Flatten Layer\n",
    "    # Function Definition from Above:\n",
    "    #   flatten(x_tensor)\n",
    "    net_model = flatten(net_model)\n",
    "\n",
    "    # TODO: Apply 1, 2, or 3 Fully Connected Layers\n",
    "    #    Play around with different number of outputs\n",
    "    # Function Definition from Above:\n",
    "    #   fully_conn(x_tensor, num_outputs)\n",
    "    net_model = fully_conn(net_model, 384)\n",
    "    tf.nn.dropout(net_model, keep_prob=keep_prob)\n",
    "    net_model = fully_conn(net_model, 192)\n",
    "    tf.nn.dropout(net_model, keep_prob=keep_prob)\n",
    "\n",
    "    # TODO: Apply an Output Layer\n",
    "    #    Set this to the number of classes\n",
    "    # Function Definition from Above:\n",
    "    #   output(x_tensor, num_outputs)\n",
    "    net_model = output(net_model, 10)\n",
    "\n",
    "    # TODO: return output\n",
    "    return net_model\n",
    "\n",
    "\n",
    "\"\"\"\n",
    "DON'T MODIFY ANYTHING IN THIS CELL THAT IS BELOW THIS LINE\n",
    "\"\"\"\n",
    "\n",
    "##############################\n",
    "## Build the Neural Network ##\n",
    "##############################\n",
    "\n",
    "# Remove previous weights, bias, inputs, etc..\n",
    "tf.reset_default_graph()\n",
    "\n",
    "# Inputs\n",
    "x = neural_net_image_input((32, 32, 3))\n",
    "y = neural_net_label_input(10)\n",
    "keep_prob = neural_net_keep_prob_input()\n",
    "\n",
    "# Model\n",
    "logits = conv_net(x, keep_prob)\n",
    "\n",
    "# Name logits Tensor, so that is can be loaded from disk after training\n",
    "logits = tf.identity(logits, name='logits')\n",
    "\n",
    "# Loss and Optimizer\n",
    "cost = tf.reduce_mean(tf.nn.softmax_cross_entropy_with_logits(logits=logits, labels=y))\n",
    "optimizer = tf.train.AdamOptimizer().minimize(cost)\n",
    "\n",
    "# Accuracy\n",
    "correct_pred = tf.equal(tf.argmax(logits, 1), tf.argmax(y, 1))\n",
    "accuracy = tf.reduce_mean(tf.cast(correct_pred, tf.float32), name='accuracy')\n",
    "\n",
    "tests.test_conv_net(conv_net)"
   ]
  },
  {
   "cell_type": "markdown",
   "metadata": {
    "deletable": true,
    "editable": true
   },
   "source": [
    "## Train the Neural Network\n",
    "### Single Optimization\n",
    "Implement the function `train_neural_network` to do a single optimization.  The optimization should use `optimizer` to optimize in `session` with a `feed_dict` of the following:\n",
    "* `x` for image input\n",
    "* `y` for labels\n",
    "* `keep_prob` for keep probability for dropout\n",
    "\n",
    "This function will be called for each batch, so `tf.global_variables_initializer()` has already been called.\n",
    "\n",
    "Note: Nothing needs to be returned. This function is only optimizing the neural network."
   ]
  },
  {
   "cell_type": "code",
   "execution_count": 118,
   "metadata": {
    "collapsed": false,
    "deletable": true,
    "editable": true
   },
   "outputs": [
    {
     "name": "stdout",
     "output_type": "stream",
     "text": [
      "Tests Passed\n"
     ]
    }
   ],
   "source": [
    "def train_neural_network(session, optimizer, keep_probability, feature_batch, label_batch):\n",
    "    \"\"\"\n",
    "    Optimize the session on a batch of images and labels\n",
    "    : session: Current TensorFlow session\n",
    "    : optimizer: TensorFlow optimizer function\n",
    "    : keep_probability: keep probability\n",
    "    : feature_batch: Batch of Numpy image data\n",
    "    : label_batch: Batch of Numpy label data\n",
    "    \"\"\"\n",
    "    # TODO: Implement Function\n",
    "    session.run(optimizer, feed_dict={x: feature_batch, y: label_batch, keep_prob: keep_probability})\n",
    "    pass\n",
    "\n",
    "\n",
    "\"\"\"\n",
    "DON'T MODIFY ANYTHING IN THIS CELL THAT IS BELOW THIS LINE\n",
    "\"\"\"\n",
    "tests.test_train_nn(train_neural_network)"
   ]
  },
  {
   "cell_type": "markdown",
   "metadata": {
    "deletable": true,
    "editable": true
   },
   "source": [
    "### Show Stats\n",
    "Implement the function `print_stats` to print loss and validation accuracy.  Use the global variables `valid_features` and `valid_labels` to calculate validation accuracy.  Use a keep probability of `1.0` to calculate the loss and validation accuracy."
   ]
  },
  {
   "cell_type": "code",
   "execution_count": 119,
   "metadata": {
    "collapsed": true,
    "deletable": true,
    "editable": true
   },
   "outputs": [],
   "source": [
    "def print_stats(session, feature_batch, label_batch, cost, accuracy):\n",
    "    \"\"\"\n",
    "    Print information about loss and validation accuracy\n",
    "    : session: Current TensorFlow session\n",
    "    : feature_batch: Batch of Numpy image data\n",
    "    : label_batch: Batch of Numpy label data\n",
    "    : cost: TensorFlow cost function\n",
    "    : accuracy: TensorFlow accuracy function\n",
    "    \"\"\"\n",
    "    # TODO: Implement Function\n",
    "    loss = session.run(cost, feed_dict={x: feature_batch, y: label_batch, keep_prob: 1.0})\n",
    "    valid_acc = session.run(accuracy, feed_dict={x: valid_features, y: valid_labels, keep_prob: 1.0})\n",
    "        \n",
    "    print('Loss: {:>10.4f} | Validation Accuracy: {:.4f}'.format(loss, valid_acc))\n",
    "    pass"
   ]
  },
  {
   "cell_type": "markdown",
   "metadata": {
    "deletable": true,
    "editable": true
   },
   "source": [
    "### Hyperparameters\n",
    "Tune the following parameters:\n",
    "* Set `epochs` to the number of iterations until the network stops learning or start overfitting\n",
    "* Set `batch_size` to the highest number that your machine has memory for.  Most people set them to common sizes of memory:\n",
    " * 64\n",
    " * 128\n",
    " * 256\n",
    " * ...\n",
    "* Set `keep_probability` to the probability of keeping a node using dropout"
   ]
  },
  {
   "cell_type": "code",
   "execution_count": 124,
   "metadata": {
    "collapsed": true,
    "deletable": true,
    "editable": true
   },
   "outputs": [],
   "source": [
    "# TODO: Tune Parameters\n",
    "epochs = 100\n",
    "batch_size = 512\n",
    "keep_probability = 0.4"
   ]
  },
  {
   "cell_type": "markdown",
   "metadata": {
    "deletable": true,
    "editable": true
   },
   "source": [
    "### Train on a Single CIFAR-10 Batch\n",
    "Instead of training the neural network on all the CIFAR-10 batches of data, let's use a single batch. This should save time while you iterate on the model to get a better accuracy.  Once the final validation accuracy is 50% or greater, run the model on all the data in the next section."
   ]
  },
  {
   "cell_type": "code",
   "execution_count": 125,
   "metadata": {
    "collapsed": false,
    "deletable": true,
    "editable": true
   },
   "outputs": [
    {
     "name": "stdout",
     "output_type": "stream",
     "text": [
      "Checking the Training on a Single Batch...\n",
      "Epoch  1, CIFAR-10 Batch 1:  Loss:    15.0190 | Validation Accuracy: 0.1332\n",
      "Epoch  2, CIFAR-10 Batch 1:  Loss:     5.6992 | Validation Accuracy: 0.1824\n",
      "Epoch  3, CIFAR-10 Batch 1:  Loss:     3.3146 | Validation Accuracy: 0.2392\n",
      "Epoch  4, CIFAR-10 Batch 1:  Loss:     2.6168 | Validation Accuracy: 0.2814\n",
      "Epoch  5, CIFAR-10 Batch 1:  Loss:     2.1742 | Validation Accuracy: 0.3244\n",
      "Epoch  6, CIFAR-10 Batch 1:  Loss:     1.8031 | Validation Accuracy: 0.3626\n",
      "Epoch  7, CIFAR-10 Batch 1:  Loss:     1.5167 | Validation Accuracy: 0.3902\n",
      "Epoch  8, CIFAR-10 Batch 1:  Loss:     1.3326 | Validation Accuracy: 0.4106\n",
      "Epoch  9, CIFAR-10 Batch 1:  Loss:     1.1690 | Validation Accuracy: 0.4346\n",
      "Epoch 10, CIFAR-10 Batch 1:  Loss:     1.0659 | Validation Accuracy: 0.4440\n",
      "Epoch 11, CIFAR-10 Batch 1:  Loss:     0.9868 | Validation Accuracy: 0.4506\n",
      "Epoch 12, CIFAR-10 Batch 1:  Loss:     0.9210 | Validation Accuracy: 0.4510\n",
      "Epoch 13, CIFAR-10 Batch 1:  Loss:     0.7889 | Validation Accuracy: 0.4748\n",
      "Epoch 14, CIFAR-10 Batch 1:  Loss:     0.7405 | Validation Accuracy: 0.4960\n",
      "Epoch 15, CIFAR-10 Batch 1:  Loss:     0.7518 | Validation Accuracy: 0.4794\n",
      "Epoch 16, CIFAR-10 Batch 1:  Loss:     0.6946 | Validation Accuracy: 0.4864\n",
      "Epoch 17, CIFAR-10 Batch 1:  Loss:     0.6460 | Validation Accuracy: 0.4862\n",
      "Epoch 18, CIFAR-10 Batch 1:  Loss:     0.5706 | Validation Accuracy: 0.4980\n",
      "Epoch 19, CIFAR-10 Batch 1:  Loss:     0.5766 | Validation Accuracy: 0.4920\n",
      "Epoch 20, CIFAR-10 Batch 1:  Loss:     0.6061 | Validation Accuracy: 0.4842\n",
      "Epoch 21, CIFAR-10 Batch 1:  Loss:     0.5858 | Validation Accuracy: 0.4836\n",
      "Epoch 22, CIFAR-10 Batch 1:  Loss:     0.4449 | Validation Accuracy: 0.5076\n",
      "Epoch 23, CIFAR-10 Batch 1:  Loss:     0.6111 | Validation Accuracy: 0.4560\n",
      "Epoch 24, CIFAR-10 Batch 1:  Loss:     0.3742 | Validation Accuracy: 0.5062\n",
      "Epoch 25, CIFAR-10 Batch 1:  Loss:     0.3390 | Validation Accuracy: 0.5102\n",
      "Epoch 26, CIFAR-10 Batch 1:  Loss:     0.3168 | Validation Accuracy: 0.5112\n",
      "Epoch 27, CIFAR-10 Batch 1:  Loss:     0.2922 | Validation Accuracy: 0.5126\n",
      "Epoch 28, CIFAR-10 Batch 1:  Loss:     0.2738 | Validation Accuracy: 0.5174\n",
      "Epoch 29, CIFAR-10 Batch 1:  Loss:     0.2571 | Validation Accuracy: 0.5184\n",
      "Epoch 30, CIFAR-10 Batch 1:  Loss:     0.2649 | Validation Accuracy: 0.5196\n",
      "Epoch 31, CIFAR-10 Batch 1:  Loss:     0.3379 | Validation Accuracy: 0.5026\n",
      "Epoch 32, CIFAR-10 Batch 1:  Loss:     0.5114 | Validation Accuracy: 0.4662\n",
      "Epoch 33, CIFAR-10 Batch 1:  Loss:     0.3797 | Validation Accuracy: 0.4966\n",
      "Epoch 34, CIFAR-10 Batch 1:  Loss:     0.2712 | Validation Accuracy: 0.5250\n",
      "Epoch 35, CIFAR-10 Batch 1:  Loss:     0.3388 | Validation Accuracy: 0.4954\n",
      "Epoch 36, CIFAR-10 Batch 1:  Loss:     0.2856 | Validation Accuracy: 0.5070\n",
      "Epoch 37, CIFAR-10 Batch 1:  Loss:     0.3186 | Validation Accuracy: 0.4910\n",
      "Epoch 38, CIFAR-10 Batch 1:  Loss:     0.3974 | Validation Accuracy: 0.4562\n",
      "Epoch 39, CIFAR-10 Batch 1:  Loss:     0.2676 | Validation Accuracy: 0.5034\n",
      "Epoch 40, CIFAR-10 Batch 1:  Loss:     0.2199 | Validation Accuracy: 0.5136\n",
      "Epoch 41, CIFAR-10 Batch 1:  Loss:     0.1632 | Validation Accuracy: 0.5240\n",
      "Epoch 42, CIFAR-10 Batch 1:  Loss:     0.1526 | Validation Accuracy: 0.5218\n",
      "Epoch 43, CIFAR-10 Batch 1:  Loss:     0.1477 | Validation Accuracy: 0.5218\n",
      "Epoch 44, CIFAR-10 Batch 1:  Loss:     0.1295 | Validation Accuracy: 0.5240\n",
      "Epoch 45, CIFAR-10 Batch 1:  Loss:     0.1093 | Validation Accuracy: 0.5228\n",
      "Epoch 46, CIFAR-10 Batch 1:  Loss:     0.0970 | Validation Accuracy: 0.5286\n",
      "Epoch 47, CIFAR-10 Batch 1:  Loss:     0.1033 | Validation Accuracy: 0.5280\n",
      "Epoch 48, CIFAR-10 Batch 1:  Loss:     0.1045 | Validation Accuracy: 0.5246\n",
      "Epoch 49, CIFAR-10 Batch 1:  Loss:     0.0765 | Validation Accuracy: 0.5330\n",
      "Epoch 50, CIFAR-10 Batch 1:  Loss:     0.0650 | Validation Accuracy: 0.5380\n",
      "Epoch 51, CIFAR-10 Batch 1:  Loss:     0.0667 | Validation Accuracy: 0.5396\n",
      "Epoch 52, CIFAR-10 Batch 1:  Loss:     0.0649 | Validation Accuracy: 0.5458\n",
      "Epoch 53, CIFAR-10 Batch 1:  Loss:     0.0676 | Validation Accuracy: 0.5476\n",
      "Epoch 54, CIFAR-10 Batch 1:  Loss:     0.0789 | Validation Accuracy: 0.5390\n",
      "Epoch 55, CIFAR-10 Batch 1:  Loss:     0.0893 | Validation Accuracy: 0.5290\n",
      "Epoch 56, CIFAR-10 Batch 1:  Loss:     0.0950 | Validation Accuracy: 0.5258\n",
      "Epoch 57, CIFAR-10 Batch 1:  Loss:     0.0934 | Validation Accuracy: 0.5250\n",
      "Epoch 58, CIFAR-10 Batch 1:  Loss:     0.1156 | Validation Accuracy: 0.5180\n",
      "Epoch 59, CIFAR-10 Batch 1:  Loss:     0.1089 | Validation Accuracy: 0.5096\n",
      "Epoch 60, CIFAR-10 Batch 1:  Loss:     0.0758 | Validation Accuracy: 0.5212\n",
      "Epoch 61, CIFAR-10 Batch 1:  Loss:     0.0938 | Validation Accuracy: 0.5200\n",
      "Epoch 62, CIFAR-10 Batch 1:  Loss:     0.1648 | Validation Accuracy: 0.4834\n",
      "Epoch 63, CIFAR-10 Batch 1:  Loss:     0.1510 | Validation Accuracy: 0.4908\n",
      "Epoch 64, CIFAR-10 Batch 1:  Loss:     0.0651 | Validation Accuracy: 0.5332\n",
      "Epoch 65, CIFAR-10 Batch 1:  Loss:     0.0370 | Validation Accuracy: 0.5420\n",
      "Epoch 66, CIFAR-10 Batch 1:  Loss:     0.0356 | Validation Accuracy: 0.5374\n",
      "Epoch 67, CIFAR-10 Batch 1:  Loss:     0.0349 | Validation Accuracy: 0.5400\n",
      "Epoch 68, CIFAR-10 Batch 1:  Loss:     0.0354 | Validation Accuracy: 0.5344\n",
      "Epoch 69, CIFAR-10 Batch 1:  Loss:     0.0339 | Validation Accuracy: 0.5364\n",
      "Epoch 70, CIFAR-10 Batch 1:  Loss:     0.0338 | Validation Accuracy: 0.5340\n",
      "Epoch 71, CIFAR-10 Batch 1:  Loss:     0.0343 | Validation Accuracy: 0.5344\n",
      "Epoch 72, CIFAR-10 Batch 1:  Loss:     0.0327 | Validation Accuracy: 0.5350\n",
      "Epoch 73, CIFAR-10 Batch 1:  Loss:     0.0311 | Validation Accuracy: 0.5338\n",
      "Epoch 74, CIFAR-10 Batch 1:  Loss:     0.0292 | Validation Accuracy: 0.5348\n",
      "Epoch 75, CIFAR-10 Batch 1:  Loss:     0.0266 | Validation Accuracy: 0.5352\n",
      "Epoch 76, CIFAR-10 Batch 1:  Loss:     0.0244 | Validation Accuracy: 0.5362\n",
      "Epoch 77, CIFAR-10 Batch 1:  Loss:     0.0227 | Validation Accuracy: 0.5350\n",
      "Epoch 78, CIFAR-10 Batch 1:  Loss:     0.0207 | Validation Accuracy: 0.5330\n",
      "Epoch 79, CIFAR-10 Batch 1:  Loss:     0.0194 | Validation Accuracy: 0.5342\n",
      "Epoch 80, CIFAR-10 Batch 1:  Loss:     0.0185 | Validation Accuracy: 0.5320\n",
      "Epoch 81, CIFAR-10 Batch 1:  Loss:     0.0185 | Validation Accuracy: 0.5284\n",
      "Epoch 82, CIFAR-10 Batch 1:  Loss:     0.0181 | Validation Accuracy: 0.5302\n",
      "Epoch 83, CIFAR-10 Batch 1:  Loss:     0.0186 | Validation Accuracy: 0.5296\n",
      "Epoch 84, CIFAR-10 Batch 1:  Loss:     0.0232 | Validation Accuracy: 0.5268\n",
      "Epoch 85, CIFAR-10 Batch 1:  Loss:     0.0233 | Validation Accuracy: 0.5212\n",
      "Epoch 86, CIFAR-10 Batch 1:  Loss:     0.0272 | Validation Accuracy: 0.5122\n",
      "Epoch 87, CIFAR-10 Batch 1:  Loss:     0.0301 | Validation Accuracy: 0.5072\n",
      "Epoch 88, CIFAR-10 Batch 1:  Loss:     0.0264 | Validation Accuracy: 0.5120\n",
      "Epoch 89, CIFAR-10 Batch 1:  Loss:     0.0180 | Validation Accuracy: 0.5156\n",
      "Epoch 90, CIFAR-10 Batch 1:  Loss:     0.0192 | Validation Accuracy: 0.5288\n",
      "Epoch 91, CIFAR-10 Batch 1:  Loss:     0.0152 | Validation Accuracy: 0.5360\n",
      "Epoch 92, CIFAR-10 Batch 1:  Loss:     0.0131 | Validation Accuracy: 0.5422\n",
      "Epoch 93, CIFAR-10 Batch 1:  Loss:     0.0158 | Validation Accuracy: 0.5414\n",
      "Epoch 94, CIFAR-10 Batch 1:  Loss:     0.0132 | Validation Accuracy: 0.5436\n",
      "Epoch 95, CIFAR-10 Batch 1:  Loss:     0.0085 | Validation Accuracy: 0.5468\n",
      "Epoch 96, CIFAR-10 Batch 1:  Loss:     0.0092 | Validation Accuracy: 0.5410\n",
      "Epoch 97, CIFAR-10 Batch 1:  Loss:     0.0087 | Validation Accuracy: 0.5426\n",
      "Epoch 98, CIFAR-10 Batch 1:  Loss:     0.0095 | Validation Accuracy: 0.5368\n",
      "Epoch 99, CIFAR-10 Batch 1:  Loss:     0.0088 | Validation Accuracy: 0.5364\n",
      "Epoch 100, CIFAR-10 Batch 1:  Loss:     0.0095 | Validation Accuracy: 0.5346\n"
     ]
    }
   ],
   "source": [
    "\"\"\"\n",
    "DON'T MODIFY ANYTHING IN THIS CELL\n",
    "\"\"\"\n",
    "print('Checking the Training on a Single Batch...')\n",
    "with tf.Session() as sess:\n",
    "    # Initializing the variables\n",
    "    sess.run(tf.global_variables_initializer())\n",
    "    \n",
    "    # Training cycle\n",
    "    for epoch in range(epochs):\n",
    "        batch_i = 1\n",
    "        for batch_features, batch_labels in helper.load_preprocess_training_batch(batch_i, batch_size):\n",
    "            train_neural_network(sess, optimizer, keep_probability, batch_features, batch_labels)\n",
    "        print('Epoch {:>2}, CIFAR-10 Batch {}:  '.format(epoch + 1, batch_i), end='')\n",
    "        print_stats(sess, batch_features, batch_labels, cost, accuracy)"
   ]
  },
  {
   "cell_type": "markdown",
   "metadata": {
    "deletable": true,
    "editable": true
   },
   "source": [
    "### Fully Train the Model\n",
    "Now that you got a good accuracy with a single CIFAR-10 batch, try it with all five batches."
   ]
  },
  {
   "cell_type": "code",
   "execution_count": 126,
   "metadata": {
    "collapsed": false,
    "deletable": true,
    "editable": true
   },
   "outputs": [
    {
     "name": "stdout",
     "output_type": "stream",
     "text": [
      "Training...\n",
      "Epoch  1, CIFAR-10 Batch 1:  Loss:     9.3221 | Validation Accuracy: 0.1398\n",
      "Epoch  1, CIFAR-10 Batch 2:  Loss:     3.1631 | Validation Accuracy: 0.2132\n",
      "Epoch  1, CIFAR-10 Batch 3:  Loss:     2.6040 | Validation Accuracy: 0.2556\n",
      "Epoch  1, CIFAR-10 Batch 4:  Loss:     2.0358 | Validation Accuracy: 0.3212\n",
      "Epoch  1, CIFAR-10 Batch 5:  Loss:     1.9010 | Validation Accuracy: 0.3746\n",
      "Epoch  2, CIFAR-10 Batch 1:  Loss:     1.8956 | Validation Accuracy: 0.4164\n",
      "Epoch  2, CIFAR-10 Batch 2:  Loss:     1.4334 | Validation Accuracy: 0.4374\n",
      "Epoch  2, CIFAR-10 Batch 3:  Loss:     1.3771 | Validation Accuracy: 0.4718\n",
      "Epoch  2, CIFAR-10 Batch 4:  Loss:     1.2645 | Validation Accuracy: 0.4720\n",
      "Epoch  2, CIFAR-10 Batch 5:  Loss:     1.2578 | Validation Accuracy: 0.5074\n",
      "Epoch  3, CIFAR-10 Batch 1:  Loss:     1.3372 | Validation Accuracy: 0.5146\n",
      "Epoch  3, CIFAR-10 Batch 2:  Loss:     1.1733 | Validation Accuracy: 0.5054\n",
      "Epoch  3, CIFAR-10 Batch 3:  Loss:     1.1217 | Validation Accuracy: 0.5256\n",
      "Epoch  3, CIFAR-10 Batch 4:  Loss:     1.0605 | Validation Accuracy: 0.5266\n",
      "Epoch  3, CIFAR-10 Batch 5:  Loss:     1.0191 | Validation Accuracy: 0.5516\n",
      "Epoch  4, CIFAR-10 Batch 1:  Loss:     1.0941 | Validation Accuracy: 0.5488\n",
      "Epoch  4, CIFAR-10 Batch 2:  Loss:     1.0234 | Validation Accuracy: 0.5432\n",
      "Epoch  4, CIFAR-10 Batch 3:  Loss:     0.9417 | Validation Accuracy: 0.5584\n",
      "Epoch  4, CIFAR-10 Batch 4:  Loss:     0.9280 | Validation Accuracy: 0.5586\n",
      "Epoch  4, CIFAR-10 Batch 5:  Loss:     0.8782 | Validation Accuracy: 0.5662\n",
      "Epoch  5, CIFAR-10 Batch 1:  Loss:     0.9514 | Validation Accuracy: 0.5748\n",
      "Epoch  5, CIFAR-10 Batch 2:  Loss:     0.8832 | Validation Accuracy: 0.5590\n",
      "Epoch  5, CIFAR-10 Batch 3:  Loss:     0.8066 | Validation Accuracy: 0.5734\n",
      "Epoch  5, CIFAR-10 Batch 4:  Loss:     0.8103 | Validation Accuracy: 0.5770\n",
      "Epoch  5, CIFAR-10 Batch 5:  Loss:     0.7879 | Validation Accuracy: 0.5830\n",
      "Epoch  6, CIFAR-10 Batch 1:  Loss:     0.8526 | Validation Accuracy: 0.5836\n",
      "Epoch  6, CIFAR-10 Batch 2:  Loss:     0.8024 | Validation Accuracy: 0.5678\n",
      "Epoch  6, CIFAR-10 Batch 3:  Loss:     0.7002 | Validation Accuracy: 0.5958\n",
      "Epoch  6, CIFAR-10 Batch 4:  Loss:     0.7107 | Validation Accuracy: 0.6068\n",
      "Epoch  6, CIFAR-10 Batch 5:  Loss:     0.6803 | Validation Accuracy: 0.6068\n",
      "Epoch  7, CIFAR-10 Batch 1:  Loss:     0.7551 | Validation Accuracy: 0.6012\n",
      "Epoch  7, CIFAR-10 Batch 2:  Loss:     0.7023 | Validation Accuracy: 0.5884\n",
      "Epoch  7, CIFAR-10 Batch 3:  Loss:     0.6172 | Validation Accuracy: 0.6034\n",
      "Epoch  7, CIFAR-10 Batch 4:  Loss:     0.6504 | Validation Accuracy: 0.6118\n",
      "Epoch  7, CIFAR-10 Batch 5:  Loss:     0.6217 | Validation Accuracy: 0.6148\n",
      "Epoch  8, CIFAR-10 Batch 1:  Loss:     0.6818 | Validation Accuracy: 0.6066\n",
      "Epoch  8, CIFAR-10 Batch 2:  Loss:     0.6449 | Validation Accuracy: 0.5944\n",
      "Epoch  8, CIFAR-10 Batch 3:  Loss:     0.5611 | Validation Accuracy: 0.6056\n",
      "Epoch  8, CIFAR-10 Batch 4:  Loss:     0.5768 | Validation Accuracy: 0.6150\n",
      "Epoch  8, CIFAR-10 Batch 5:  Loss:     0.5635 | Validation Accuracy: 0.6196\n",
      "Epoch  9, CIFAR-10 Batch 1:  Loss:     0.6165 | Validation Accuracy: 0.6130\n",
      "Epoch  9, CIFAR-10 Batch 2:  Loss:     0.5555 | Validation Accuracy: 0.6016\n",
      "Epoch  9, CIFAR-10 Batch 3:  Loss:     0.5186 | Validation Accuracy: 0.6116\n",
      "Epoch  9, CIFAR-10 Batch 4:  Loss:     0.5275 | Validation Accuracy: 0.6218\n",
      "Epoch  9, CIFAR-10 Batch 5:  Loss:     0.5063 | Validation Accuracy: 0.6186\n",
      "Epoch 10, CIFAR-10 Batch 1:  Loss:     0.5538 | Validation Accuracy: 0.6148\n",
      "Epoch 10, CIFAR-10 Batch 2:  Loss:     0.4897 | Validation Accuracy: 0.6150\n",
      "Epoch 10, CIFAR-10 Batch 3:  Loss:     0.4595 | Validation Accuracy: 0.6228\n",
      "Epoch 10, CIFAR-10 Batch 4:  Loss:     0.4857 | Validation Accuracy: 0.6174\n",
      "Epoch 10, CIFAR-10 Batch 5:  Loss:     0.4551 | Validation Accuracy: 0.6150\n",
      "Epoch 11, CIFAR-10 Batch 1:  Loss:     0.5024 | Validation Accuracy: 0.6176\n",
      "Epoch 11, CIFAR-10 Batch 2:  Loss:     0.4604 | Validation Accuracy: 0.6192\n",
      "Epoch 11, CIFAR-10 Batch 3:  Loss:     0.4374 | Validation Accuracy: 0.6178\n",
      "Epoch 11, CIFAR-10 Batch 4:  Loss:     0.4753 | Validation Accuracy: 0.6032\n",
      "Epoch 11, CIFAR-10 Batch 5:  Loss:     0.4413 | Validation Accuracy: 0.6106\n",
      "Epoch 12, CIFAR-10 Batch 1:  Loss:     0.5137 | Validation Accuracy: 0.6104\n",
      "Epoch 12, CIFAR-10 Batch 2:  Loss:     0.5136 | Validation Accuracy: 0.5966\n",
      "Epoch 12, CIFAR-10 Batch 3:  Loss:     0.4672 | Validation Accuracy: 0.6048\n",
      "Epoch 12, CIFAR-10 Batch 4:  Loss:     0.4355 | Validation Accuracy: 0.5976\n",
      "Epoch 12, CIFAR-10 Batch 5:  Loss:     0.4580 | Validation Accuracy: 0.6046\n",
      "Epoch 13, CIFAR-10 Batch 1:  Loss:     0.4570 | Validation Accuracy: 0.6154\n",
      "Epoch 13, CIFAR-10 Batch 2:  Loss:     0.4770 | Validation Accuracy: 0.5840\n",
      "Epoch 13, CIFAR-10 Batch 3:  Loss:     0.4358 | Validation Accuracy: 0.6122\n",
      "Epoch 13, CIFAR-10 Batch 4:  Loss:     0.4099 | Validation Accuracy: 0.6230\n",
      "Epoch 13, CIFAR-10 Batch 5:  Loss:     0.3953 | Validation Accuracy: 0.6032\n",
      "Epoch 14, CIFAR-10 Batch 1:  Loss:     0.4393 | Validation Accuracy: 0.6152\n",
      "Epoch 14, CIFAR-10 Batch 2:  Loss:     0.3869 | Validation Accuracy: 0.6280\n",
      "Epoch 14, CIFAR-10 Batch 3:  Loss:     0.3686 | Validation Accuracy: 0.6162\n",
      "Epoch 14, CIFAR-10 Batch 4:  Loss:     0.3588 | Validation Accuracy: 0.6206\n",
      "Epoch 14, CIFAR-10 Batch 5:  Loss:     0.3412 | Validation Accuracy: 0.6174\n",
      "Epoch 15, CIFAR-10 Batch 1:  Loss:     0.4228 | Validation Accuracy: 0.6010\n",
      "Epoch 15, CIFAR-10 Batch 2:  Loss:     0.4170 | Validation Accuracy: 0.6004\n",
      "Epoch 15, CIFAR-10 Batch 3:  Loss:     0.2923 | Validation Accuracy: 0.6230\n",
      "Epoch 15, CIFAR-10 Batch 4:  Loss:     0.2898 | Validation Accuracy: 0.6322\n",
      "Epoch 15, CIFAR-10 Batch 5:  Loss:     0.3226 | Validation Accuracy: 0.6174\n",
      "Epoch 16, CIFAR-10 Batch 1:  Loss:     0.4187 | Validation Accuracy: 0.5804\n",
      "Epoch 16, CIFAR-10 Batch 2:  Loss:     0.3855 | Validation Accuracy: 0.5920\n",
      "Epoch 16, CIFAR-10 Batch 3:  Loss:     0.2936 | Validation Accuracy: 0.6164\n",
      "Epoch 16, CIFAR-10 Batch 4:  Loss:     0.2834 | Validation Accuracy: 0.6338\n",
      "Epoch 16, CIFAR-10 Batch 5:  Loss:     0.2731 | Validation Accuracy: 0.6190\n",
      "Epoch 17, CIFAR-10 Batch 1:  Loss:     0.3227 | Validation Accuracy: 0.6006\n",
      "Epoch 17, CIFAR-10 Batch 2:  Loss:     0.3492 | Validation Accuracy: 0.6022\n",
      "Epoch 17, CIFAR-10 Batch 3:  Loss:     0.2995 | Validation Accuracy: 0.6116\n",
      "Epoch 17, CIFAR-10 Batch 4:  Loss:     0.2591 | Validation Accuracy: 0.6224\n",
      "Epoch 17, CIFAR-10 Batch 5:  Loss:     0.2807 | Validation Accuracy: 0.6084\n",
      "Epoch 18, CIFAR-10 Batch 1:  Loss:     0.2719 | Validation Accuracy: 0.6254\n",
      "Epoch 18, CIFAR-10 Batch 2:  Loss:     0.2706 | Validation Accuracy: 0.6208\n",
      "Epoch 18, CIFAR-10 Batch 3:  Loss:     0.2632 | Validation Accuracy: 0.6186\n",
      "Epoch 18, CIFAR-10 Batch 4:  Loss:     0.2548 | Validation Accuracy: 0.6112\n",
      "Epoch 18, CIFAR-10 Batch 5:  Loss:     0.2403 | Validation Accuracy: 0.6078\n",
      "Epoch 19, CIFAR-10 Batch 1:  Loss:     0.3166 | Validation Accuracy: 0.6048\n",
      "Epoch 19, CIFAR-10 Batch 2:  Loss:     0.2713 | Validation Accuracy: 0.6048\n",
      "Epoch 19, CIFAR-10 Batch 3:  Loss:     0.2174 | Validation Accuracy: 0.6310\n",
      "Epoch 19, CIFAR-10 Batch 4:  Loss:     0.2203 | Validation Accuracy: 0.6088\n",
      "Epoch 19, CIFAR-10 Batch 5:  Loss:     0.2406 | Validation Accuracy: 0.6190\n",
      "Epoch 20, CIFAR-10 Batch 1:  Loss:     0.2489 | Validation Accuracy: 0.6112\n",
      "Epoch 20, CIFAR-10 Batch 2:  Loss:     0.2422 | Validation Accuracy: 0.6022\n",
      "Epoch 20, CIFAR-10 Batch 3:  Loss:     0.2227 | Validation Accuracy: 0.6174\n",
      "Epoch 20, CIFAR-10 Batch 4:  Loss:     0.1789 | Validation Accuracy: 0.6218\n",
      "Epoch 20, CIFAR-10 Batch 5:  Loss:     0.1661 | Validation Accuracy: 0.6342\n",
      "Epoch 21, CIFAR-10 Batch 1:  Loss:     0.2234 | Validation Accuracy: 0.6024\n",
      "Epoch 21, CIFAR-10 Batch 2:  Loss:     0.1989 | Validation Accuracy: 0.6356\n",
      "Epoch 21, CIFAR-10 Batch 3:  Loss:     0.2028 | Validation Accuracy: 0.6142\n",
      "Epoch 21, CIFAR-10 Batch 4:  Loss:     0.1586 | Validation Accuracy: 0.6198\n",
      "Epoch 21, CIFAR-10 Batch 5:  Loss:     0.1465 | Validation Accuracy: 0.6328\n",
      "Epoch 22, CIFAR-10 Batch 1:  Loss:     0.1819 | Validation Accuracy: 0.5994\n",
      "Epoch 22, CIFAR-10 Batch 2:  Loss:     0.2178 | Validation Accuracy: 0.6080\n",
      "Epoch 22, CIFAR-10 Batch 3:  Loss:     0.1769 | Validation Accuracy: 0.6140\n",
      "Epoch 22, CIFAR-10 Batch 4:  Loss:     0.1577 | Validation Accuracy: 0.6272\n",
      "Epoch 22, CIFAR-10 Batch 5:  Loss:     0.1393 | Validation Accuracy: 0.6232\n",
      "Epoch 23, CIFAR-10 Batch 1:  Loss:     0.1499 | Validation Accuracy: 0.6156\n",
      "Epoch 23, CIFAR-10 Batch 2:  Loss:     0.2172 | Validation Accuracy: 0.6008\n",
      "Epoch 23, CIFAR-10 Batch 3:  Loss:     0.1509 | Validation Accuracy: 0.6174\n",
      "Epoch 23, CIFAR-10 Batch 4:  Loss:     0.1582 | Validation Accuracy: 0.6152\n",
      "Epoch 23, CIFAR-10 Batch 5:  Loss:     0.1391 | Validation Accuracy: 0.6142\n",
      "Epoch 24, CIFAR-10 Batch 1:  Loss:     0.1343 | Validation Accuracy: 0.6192\n",
      "Epoch 24, CIFAR-10 Batch 2:  Loss:     0.1342 | Validation Accuracy: 0.6288\n",
      "Epoch 24, CIFAR-10 Batch 3:  Loss:     0.1615 | Validation Accuracy: 0.6200\n",
      "Epoch 24, CIFAR-10 Batch 4:  Loss:     0.2039 | Validation Accuracy: 0.5900\n",
      "Epoch 24, CIFAR-10 Batch 5:  Loss:     0.1397 | Validation Accuracy: 0.6184\n",
      "Epoch 25, CIFAR-10 Batch 1:  Loss:     0.1731 | Validation Accuracy: 0.6262\n",
      "Epoch 25, CIFAR-10 Batch 2:  Loss:     0.1435 | Validation Accuracy: 0.6180\n",
      "Epoch 25, CIFAR-10 Batch 3:  Loss:     0.1542 | Validation Accuracy: 0.6144\n",
      "Epoch 25, CIFAR-10 Batch 4:  Loss:     0.1393 | Validation Accuracy: 0.6142\n",
      "Epoch 25, CIFAR-10 Batch 5:  Loss:     0.1817 | Validation Accuracy: 0.6084\n",
      "Epoch 26, CIFAR-10 Batch 1:  Loss:     0.1201 | Validation Accuracy: 0.6306\n",
      "Epoch 26, CIFAR-10 Batch 2:  Loss:     0.1449 | Validation Accuracy: 0.5882\n",
      "Epoch 26, CIFAR-10 Batch 3:  Loss:     0.1389 | Validation Accuracy: 0.6172\n",
      "Epoch 26, CIFAR-10 Batch 4:  Loss:     0.1062 | Validation Accuracy: 0.6204\n",
      "Epoch 26, CIFAR-10 Batch 5:  Loss:     0.1066 | Validation Accuracy: 0.6214\n",
      "Epoch 27, CIFAR-10 Batch 1:  Loss:     0.1182 | Validation Accuracy: 0.6230\n",
      "Epoch 27, CIFAR-10 Batch 2:  Loss:     0.1090 | Validation Accuracy: 0.6176\n",
      "Epoch 27, CIFAR-10 Batch 3:  Loss:     0.1019 | Validation Accuracy: 0.6228\n",
      "Epoch 27, CIFAR-10 Batch 4:  Loss:     0.0799 | Validation Accuracy: 0.6330\n",
      "Epoch 27, CIFAR-10 Batch 5:  Loss:     0.0862 | Validation Accuracy: 0.6202\n",
      "Epoch 28, CIFAR-10 Batch 1:  Loss:     0.1094 | Validation Accuracy: 0.6248\n",
      "Epoch 28, CIFAR-10 Batch 2:  Loss:     0.0919 | Validation Accuracy: 0.6304\n",
      "Epoch 28, CIFAR-10 Batch 3:  Loss:     0.1265 | Validation Accuracy: 0.5930\n",
      "Epoch 28, CIFAR-10 Batch 4:  Loss:     0.0950 | Validation Accuracy: 0.6090\n",
      "Epoch 28, CIFAR-10 Batch 5:  Loss:     0.0713 | Validation Accuracy: 0.6176\n",
      "Epoch 29, CIFAR-10 Batch 1:  Loss:     0.0708 | Validation Accuracy: 0.6242\n",
      "Epoch 29, CIFAR-10 Batch 2:  Loss:     0.0763 | Validation Accuracy: 0.6384\n",
      "Epoch 29, CIFAR-10 Batch 3:  Loss:     0.0874 | Validation Accuracy: 0.5932\n",
      "Epoch 29, CIFAR-10 Batch 4:  Loss:     0.0978 | Validation Accuracy: 0.5960\n",
      "Epoch 29, CIFAR-10 Batch 5:  Loss:     0.0822 | Validation Accuracy: 0.6050\n",
      "Epoch 30, CIFAR-10 Batch 1:  Loss:     0.0626 | Validation Accuracy: 0.6246\n",
      "Epoch 30, CIFAR-10 Batch 2:  Loss:     0.0775 | Validation Accuracy: 0.6328\n",
      "Epoch 30, CIFAR-10 Batch 3:  Loss:     0.0616 | Validation Accuracy: 0.6126\n",
      "Epoch 30, CIFAR-10 Batch 4:  Loss:     0.1020 | Validation Accuracy: 0.5904\n",
      "Epoch 30, CIFAR-10 Batch 5:  Loss:     0.0826 | Validation Accuracy: 0.5966\n",
      "Epoch 31, CIFAR-10 Batch 1:  Loss:     0.0756 | Validation Accuracy: 0.6164\n",
      "Epoch 31, CIFAR-10 Batch 2:  Loss:     0.0609 | Validation Accuracy: 0.6314\n",
      "Epoch 31, CIFAR-10 Batch 3:  Loss:     0.0731 | Validation Accuracy: 0.6174\n",
      "Epoch 31, CIFAR-10 Batch 4:  Loss:     0.0762 | Validation Accuracy: 0.6078\n",
      "Epoch 31, CIFAR-10 Batch 5:  Loss:     0.1185 | Validation Accuracy: 0.5920\n",
      "Epoch 32, CIFAR-10 Batch 1:  Loss:     0.0823 | Validation Accuracy: 0.6120\n",
      "Epoch 32, CIFAR-10 Batch 2:  Loss:     0.0880 | Validation Accuracy: 0.6184\n",
      "Epoch 32, CIFAR-10 Batch 3:  Loss:     0.0622 | Validation Accuracy: 0.6222\n",
      "Epoch 32, CIFAR-10 Batch 4:  Loss:     0.0625 | Validation Accuracy: 0.6136\n",
      "Epoch 32, CIFAR-10 Batch 5:  Loss:     0.0691 | Validation Accuracy: 0.6114\n",
      "Epoch 33, CIFAR-10 Batch 1:  Loss:     0.0860 | Validation Accuracy: 0.6096\n",
      "Epoch 33, CIFAR-10 Batch 2:  Loss:     0.0686 | Validation Accuracy: 0.6232\n",
      "Epoch 33, CIFAR-10 Batch 3:  Loss:     0.0492 | Validation Accuracy: 0.6322\n",
      "Epoch 33, CIFAR-10 Batch 4:  Loss:     0.0640 | Validation Accuracy: 0.6006\n",
      "Epoch 33, CIFAR-10 Batch 5:  Loss:     0.0455 | Validation Accuracy: 0.6162\n",
      "Epoch 34, CIFAR-10 Batch 1:  Loss:     0.0458 | Validation Accuracy: 0.6248\n",
      "Epoch 34, CIFAR-10 Batch 2:  Loss:     0.0546 | Validation Accuracy: 0.6194\n",
      "Epoch 34, CIFAR-10 Batch 3:  Loss:     0.0493 | Validation Accuracy: 0.6374\n",
      "Epoch 34, CIFAR-10 Batch 4:  Loss:     0.0377 | Validation Accuracy: 0.6154\n",
      "Epoch 34, CIFAR-10 Batch 5:  Loss:     0.0288 | Validation Accuracy: 0.6156\n",
      "Epoch 35, CIFAR-10 Batch 1:  Loss:     0.0485 | Validation Accuracy: 0.6194\n",
      "Epoch 35, CIFAR-10 Batch 2:  Loss:     0.0296 | Validation Accuracy: 0.6304\n",
      "Epoch 35, CIFAR-10 Batch 3:  Loss:     0.0371 | Validation Accuracy: 0.6304\n",
      "Epoch 35, CIFAR-10 Batch 4:  Loss:     0.0443 | Validation Accuracy: 0.6152\n",
      "Epoch 35, CIFAR-10 Batch 5:  Loss:     0.0348 | Validation Accuracy: 0.6092\n",
      "Epoch 36, CIFAR-10 Batch 1:  Loss:     0.0348 | Validation Accuracy: 0.6200\n",
      "Epoch 36, CIFAR-10 Batch 2:  Loss:     0.0291 | Validation Accuracy: 0.6302\n",
      "Epoch 36, CIFAR-10 Batch 3:  Loss:     0.0269 | Validation Accuracy: 0.6304\n",
      "Epoch 36, CIFAR-10 Batch 4:  Loss:     0.0266 | Validation Accuracy: 0.6292\n",
      "Epoch 36, CIFAR-10 Batch 5:  Loss:     0.0244 | Validation Accuracy: 0.6198\n",
      "Epoch 37, CIFAR-10 Batch 1:  Loss:     0.0360 | Validation Accuracy: 0.6172\n",
      "Epoch 37, CIFAR-10 Batch 2:  Loss:     0.0283 | Validation Accuracy: 0.6236\n",
      "Epoch 37, CIFAR-10 Batch 3:  Loss:     0.0384 | Validation Accuracy: 0.6140\n",
      "Epoch 37, CIFAR-10 Batch 4:  Loss:     0.0229 | Validation Accuracy: 0.6232\n",
      "Epoch 37, CIFAR-10 Batch 5:  Loss:     0.0182 | Validation Accuracy: 0.6282\n",
      "Epoch 38, CIFAR-10 Batch 1:  Loss:     0.0287 | Validation Accuracy: 0.6288\n",
      "Epoch 38, CIFAR-10 Batch 2:  Loss:     0.0186 | Validation Accuracy: 0.6276\n",
      "Epoch 38, CIFAR-10 Batch 3:  Loss:     0.0178 | Validation Accuracy: 0.6260\n",
      "Epoch 38, CIFAR-10 Batch 4:  Loss:     0.0202 | Validation Accuracy: 0.6194\n",
      "Epoch 38, CIFAR-10 Batch 5:  Loss:     0.0163 | Validation Accuracy: 0.6242\n",
      "Epoch 39, CIFAR-10 Batch 1:  Loss:     0.0365 | Validation Accuracy: 0.6220\n",
      "Epoch 39, CIFAR-10 Batch 2:  Loss:     0.0220 | Validation Accuracy: 0.6202\n",
      "Epoch 39, CIFAR-10 Batch 3:  Loss:     0.0262 | Validation Accuracy: 0.6120\n",
      "Epoch 39, CIFAR-10 Batch 4:  Loss:     0.0208 | Validation Accuracy: 0.6190\n",
      "Epoch 39, CIFAR-10 Batch 5:  Loss:     0.0201 | Validation Accuracy: 0.6258\n",
      "Epoch 40, CIFAR-10 Batch 1:  Loss:     0.0205 | Validation Accuracy: 0.6242\n",
      "Epoch 40, CIFAR-10 Batch 2:  Loss:     0.0188 | Validation Accuracy: 0.6204\n",
      "Epoch 40, CIFAR-10 Batch 3:  Loss:     0.0133 | Validation Accuracy: 0.6360\n",
      "Epoch 40, CIFAR-10 Batch 4:  Loss:     0.0312 | Validation Accuracy: 0.6048\n",
      "Epoch 40, CIFAR-10 Batch 5:  Loss:     0.0195 | Validation Accuracy: 0.6236\n",
      "Epoch 41, CIFAR-10 Batch 1:  Loss:     0.0168 | Validation Accuracy: 0.6270\n",
      "Epoch 41, CIFAR-10 Batch 2:  Loss:     0.0158 | Validation Accuracy: 0.6220\n",
      "Epoch 41, CIFAR-10 Batch 3:  Loss:     0.0183 | Validation Accuracy: 0.6306\n",
      "Epoch 41, CIFAR-10 Batch 4:  Loss:     0.0141 | Validation Accuracy: 0.6134\n",
      "Epoch 41, CIFAR-10 Batch 5:  Loss:     0.0113 | Validation Accuracy: 0.6276\n",
      "Epoch 42, CIFAR-10 Batch 1:  Loss:     0.0185 | Validation Accuracy: 0.6298\n",
      "Epoch 42, CIFAR-10 Batch 2:  Loss:     0.0213 | Validation Accuracy: 0.6192\n",
      "Epoch 42, CIFAR-10 Batch 3:  Loss:     0.0177 | Validation Accuracy: 0.6268\n",
      "Epoch 42, CIFAR-10 Batch 4:  Loss:     0.0173 | Validation Accuracy: 0.6134\n",
      "Epoch 42, CIFAR-10 Batch 5:  Loss:     0.0175 | Validation Accuracy: 0.6166\n",
      "Epoch 43, CIFAR-10 Batch 1:  Loss:     0.0158 | Validation Accuracy: 0.6296\n",
      "Epoch 43, CIFAR-10 Batch 2:  Loss:     0.0100 | Validation Accuracy: 0.6228\n",
      "Epoch 43, CIFAR-10 Batch 3:  Loss:     0.0159 | Validation Accuracy: 0.6352\n",
      "Epoch 43, CIFAR-10 Batch 4:  Loss:     0.0125 | Validation Accuracy: 0.6090\n",
      "Epoch 43, CIFAR-10 Batch 5:  Loss:     0.0155 | Validation Accuracy: 0.6050\n",
      "Epoch 44, CIFAR-10 Batch 1:  Loss:     0.0160 | Validation Accuracy: 0.6094\n",
      "Epoch 44, CIFAR-10 Batch 2:  Loss:     0.0078 | Validation Accuracy: 0.6294\n",
      "Epoch 44, CIFAR-10 Batch 3:  Loss:     0.0081 | Validation Accuracy: 0.6326\n",
      "Epoch 44, CIFAR-10 Batch 4:  Loss:     0.0113 | Validation Accuracy: 0.6198\n",
      "Epoch 44, CIFAR-10 Batch 5:  Loss:     0.0121 | Validation Accuracy: 0.6058\n",
      "Epoch 45, CIFAR-10 Batch 1:  Loss:     0.0108 | Validation Accuracy: 0.6228\n",
      "Epoch 45, CIFAR-10 Batch 2:  Loss:     0.0098 | Validation Accuracy: 0.6210\n",
      "Epoch 45, CIFAR-10 Batch 3:  Loss:     0.0113 | Validation Accuracy: 0.6294\n",
      "Epoch 45, CIFAR-10 Batch 4:  Loss:     0.0083 | Validation Accuracy: 0.6228\n",
      "Epoch 45, CIFAR-10 Batch 5:  Loss:     0.0141 | Validation Accuracy: 0.6034\n",
      "Epoch 46, CIFAR-10 Batch 1:  Loss:     0.0098 | Validation Accuracy: 0.6178\n",
      "Epoch 46, CIFAR-10 Batch 2:  Loss:     0.0069 | Validation Accuracy: 0.6296\n",
      "Epoch 46, CIFAR-10 Batch 3:  Loss:     0.0092 | Validation Accuracy: 0.6220\n",
      "Epoch 46, CIFAR-10 Batch 4:  Loss:     0.0053 | Validation Accuracy: 0.6368\n",
      "Epoch 46, CIFAR-10 Batch 5:  Loss:     0.0105 | Validation Accuracy: 0.6158\n",
      "Epoch 47, CIFAR-10 Batch 1:  Loss:     0.0124 | Validation Accuracy: 0.6128\n",
      "Epoch 47, CIFAR-10 Batch 2:  Loss:     0.0098 | Validation Accuracy: 0.6274\n",
      "Epoch 47, CIFAR-10 Batch 3:  Loss:     0.0182 | Validation Accuracy: 0.6156\n",
      "Epoch 47, CIFAR-10 Batch 4:  Loss:     0.0045 | Validation Accuracy: 0.6382\n",
      "Epoch 47, CIFAR-10 Batch 5:  Loss:     0.0088 | Validation Accuracy: 0.6182\n",
      "Epoch 48, CIFAR-10 Batch 1:  Loss:     0.0208 | Validation Accuracy: 0.5832\n",
      "Epoch 48, CIFAR-10 Batch 2:  Loss:     0.0096 | Validation Accuracy: 0.6180\n",
      "Epoch 48, CIFAR-10 Batch 3:  Loss:     0.0099 | Validation Accuracy: 0.6182\n",
      "Epoch 48, CIFAR-10 Batch 4:  Loss:     0.0075 | Validation Accuracy: 0.6326\n",
      "Epoch 48, CIFAR-10 Batch 5:  Loss:     0.0039 | Validation Accuracy: 0.6352\n",
      "Epoch 49, CIFAR-10 Batch 1:  Loss:     0.0125 | Validation Accuracy: 0.6144\n",
      "Epoch 49, CIFAR-10 Batch 2:  Loss:     0.0173 | Validation Accuracy: 0.6054\n",
      "Epoch 49, CIFAR-10 Batch 3:  Loss:     0.0069 | Validation Accuracy: 0.6264\n",
      "Epoch 49, CIFAR-10 Batch 4:  Loss:     0.0103 | Validation Accuracy: 0.6220\n",
      "Epoch 49, CIFAR-10 Batch 5:  Loss:     0.0052 | Validation Accuracy: 0.6314\n",
      "Epoch 50, CIFAR-10 Batch 1:  Loss:     0.0078 | Validation Accuracy: 0.6224\n",
      "Epoch 50, CIFAR-10 Batch 2:  Loss:     0.0060 | Validation Accuracy: 0.6098\n",
      "Epoch 50, CIFAR-10 Batch 3:  Loss:     0.0119 | Validation Accuracy: 0.6110\n",
      "Epoch 50, CIFAR-10 Batch 4:  Loss:     0.0071 | Validation Accuracy: 0.6232\n",
      "Epoch 50, CIFAR-10 Batch 5:  Loss:     0.0058 | Validation Accuracy: 0.6298\n",
      "Epoch 51, CIFAR-10 Batch 1:  Loss:     0.0080 | Validation Accuracy: 0.6210\n",
      "Epoch 51, CIFAR-10 Batch 2:  Loss:     0.0040 | Validation Accuracy: 0.6322\n",
      "Epoch 51, CIFAR-10 Batch 3:  Loss:     0.0072 | Validation Accuracy: 0.6188\n",
      "Epoch 51, CIFAR-10 Batch 4:  Loss:     0.0096 | Validation Accuracy: 0.6124\n",
      "Epoch 51, CIFAR-10 Batch 5:  Loss:     0.0060 | Validation Accuracy: 0.6270\n",
      "Epoch 52, CIFAR-10 Batch 1:  Loss:     0.0063 | Validation Accuracy: 0.6248\n",
      "Epoch 52, CIFAR-10 Batch 2:  Loss:     0.0039 | Validation Accuracy: 0.6296\n",
      "Epoch 52, CIFAR-10 Batch 3:  Loss:     0.0044 | Validation Accuracy: 0.6312\n",
      "Epoch 52, CIFAR-10 Batch 4:  Loss:     0.0091 | Validation Accuracy: 0.6168\n",
      "Epoch 52, CIFAR-10 Batch 5:  Loss:     0.0040 | Validation Accuracy: 0.6322\n",
      "Epoch 53, CIFAR-10 Batch 1:  Loss:     0.0041 | Validation Accuracy: 0.6294\n",
      "Epoch 53, CIFAR-10 Batch 2:  Loss:     0.0026 | Validation Accuracy: 0.6344\n",
      "Epoch 53, CIFAR-10 Batch 3:  Loss:     0.0048 | Validation Accuracy: 0.6286\n",
      "Epoch 53, CIFAR-10 Batch 4:  Loss:     0.0029 | Validation Accuracy: 0.6374\n",
      "Epoch 53, CIFAR-10 Batch 5:  Loss:     0.0037 | Validation Accuracy: 0.6352\n",
      "Epoch 54, CIFAR-10 Batch 1:  Loss:     0.0053 | Validation Accuracy: 0.6280\n",
      "Epoch 54, CIFAR-10 Batch 2:  Loss:     0.0049 | Validation Accuracy: 0.6266\n",
      "Epoch 54, CIFAR-10 Batch 3:  Loss:     0.0050 | Validation Accuracy: 0.6250\n",
      "Epoch 54, CIFAR-10 Batch 4:  Loss:     0.0019 | Validation Accuracy: 0.6376\n",
      "Epoch 54, CIFAR-10 Batch 5:  Loss:     0.0031 | Validation Accuracy: 0.6352\n",
      "Epoch 55, CIFAR-10 Batch 1:  Loss:     0.0036 | Validation Accuracy: 0.6328\n",
      "Epoch 55, CIFAR-10 Batch 2:  Loss:     0.0027 | Validation Accuracy: 0.6332\n",
      "Epoch 55, CIFAR-10 Batch 3:  Loss:     0.0047 | Validation Accuracy: 0.6258\n",
      "Epoch 55, CIFAR-10 Batch 4:  Loss:     0.0021 | Validation Accuracy: 0.6404\n",
      "Epoch 55, CIFAR-10 Batch 5:  Loss:     0.0021 | Validation Accuracy: 0.6336\n",
      "Epoch 56, CIFAR-10 Batch 1:  Loss:     0.0018 | Validation Accuracy: 0.6378\n",
      "Epoch 56, CIFAR-10 Batch 2:  Loss:     0.0017 | Validation Accuracy: 0.6394\n",
      "Epoch 56, CIFAR-10 Batch 3:  Loss:     0.0015 | Validation Accuracy: 0.6394\n",
      "Epoch 56, CIFAR-10 Batch 4:  Loss:     0.0016 | Validation Accuracy: 0.6310\n",
      "Epoch 56, CIFAR-10 Batch 5:  Loss:     0.0017 | Validation Accuracy: 0.6324\n",
      "Epoch 57, CIFAR-10 Batch 1:  Loss:     0.0015 | Validation Accuracy: 0.6384\n",
      "Epoch 57, CIFAR-10 Batch 2:  Loss:     0.0017 | Validation Accuracy: 0.6434\n",
      "Epoch 57, CIFAR-10 Batch 3:  Loss:     0.0016 | Validation Accuracy: 0.6396\n",
      "Epoch 57, CIFAR-10 Batch 4:  Loss:     0.0017 | Validation Accuracy: 0.6444\n",
      "Epoch 57, CIFAR-10 Batch 5:  Loss:     0.0016 | Validation Accuracy: 0.6354\n",
      "Epoch 58, CIFAR-10 Batch 1:  Loss:     0.0015 | Validation Accuracy: 0.6356\n",
      "Epoch 58, CIFAR-10 Batch 2:  Loss:     0.0014 | Validation Accuracy: 0.6398\n",
      "Epoch 58, CIFAR-10 Batch 3:  Loss:     0.0017 | Validation Accuracy: 0.6412\n",
      "Epoch 58, CIFAR-10 Batch 4:  Loss:     0.0010 | Validation Accuracy: 0.6432\n",
      "Epoch 58, CIFAR-10 Batch 5:  Loss:     0.0016 | Validation Accuracy: 0.6388\n",
      "Epoch 59, CIFAR-10 Batch 1:  Loss:     0.0011 | Validation Accuracy: 0.6360\n",
      "Epoch 59, CIFAR-10 Batch 2:  Loss:     0.0010 | Validation Accuracy: 0.6404\n",
      "Epoch 59, CIFAR-10 Batch 3:  Loss:     0.0007 | Validation Accuracy: 0.6390\n",
      "Epoch 59, CIFAR-10 Batch 4:  Loss:     0.0011 | Validation Accuracy: 0.6468\n",
      "Epoch 59, CIFAR-10 Batch 5:  Loss:     0.0008 | Validation Accuracy: 0.6396\n",
      "Epoch 60, CIFAR-10 Batch 1:  Loss:     0.0011 | Validation Accuracy: 0.6370\n",
      "Epoch 60, CIFAR-10 Batch 2:  Loss:     0.0007 | Validation Accuracy: 0.6424\n",
      "Epoch 60, CIFAR-10 Batch 3:  Loss:     0.0007 | Validation Accuracy: 0.6434\n",
      "Epoch 60, CIFAR-10 Batch 4:  Loss:     0.0009 | Validation Accuracy: 0.6430\n",
      "Epoch 60, CIFAR-10 Batch 5:  Loss:     0.0004 | Validation Accuracy: 0.6412\n",
      "Epoch 61, CIFAR-10 Batch 1:  Loss:     0.0009 | Validation Accuracy: 0.6390\n",
      "Epoch 61, CIFAR-10 Batch 2:  Loss:     0.0006 | Validation Accuracy: 0.6430\n",
      "Epoch 61, CIFAR-10 Batch 3:  Loss:     0.0007 | Validation Accuracy: 0.6448\n",
      "Epoch 61, CIFAR-10 Batch 4:  Loss:     0.0006 | Validation Accuracy: 0.6466\n",
      "Epoch 61, CIFAR-10 Batch 5:  Loss:     0.0004 | Validation Accuracy: 0.6430\n",
      "Epoch 62, CIFAR-10 Batch 1:  Loss:     0.0006 | Validation Accuracy: 0.6400\n",
      "Epoch 62, CIFAR-10 Batch 2:  Loss:     0.0005 | Validation Accuracy: 0.6432\n",
      "Epoch 62, CIFAR-10 Batch 3:  Loss:     0.0005 | Validation Accuracy: 0.6458\n",
      "Epoch 62, CIFAR-10 Batch 4:  Loss:     0.0005 | Validation Accuracy: 0.6462\n",
      "Epoch 62, CIFAR-10 Batch 5:  Loss:     0.0003 | Validation Accuracy: 0.6426\n",
      "Epoch 63, CIFAR-10 Batch 1:  Loss:     0.0006 | Validation Accuracy: 0.6418\n",
      "Epoch 63, CIFAR-10 Batch 2:  Loss:     0.0003 | Validation Accuracy: 0.6472\n",
      "Epoch 63, CIFAR-10 Batch 3:  Loss:     0.0005 | Validation Accuracy: 0.6444\n",
      "Epoch 63, CIFAR-10 Batch 4:  Loss:     0.0005 | Validation Accuracy: 0.6452\n",
      "Epoch 63, CIFAR-10 Batch 5:  Loss:     0.0003 | Validation Accuracy: 0.6416\n",
      "Epoch 64, CIFAR-10 Batch 1:  Loss:     0.0005 | Validation Accuracy: 0.6422\n",
      "Epoch 64, CIFAR-10 Batch 2:  Loss:     0.0003 | Validation Accuracy: 0.6440\n",
      "Epoch 64, CIFAR-10 Batch 3:  Loss:     0.0004 | Validation Accuracy: 0.6482\n",
      "Epoch 64, CIFAR-10 Batch 4:  Loss:     0.0004 | Validation Accuracy: 0.6468\n",
      "Epoch 64, CIFAR-10 Batch 5:  Loss:     0.0003 | Validation Accuracy: 0.6466\n",
      "Epoch 65, CIFAR-10 Batch 1:  Loss:     0.0004 | Validation Accuracy: 0.6436\n",
      "Epoch 65, CIFAR-10 Batch 2:  Loss:     0.0003 | Validation Accuracy: 0.6430\n",
      "Epoch 65, CIFAR-10 Batch 3:  Loss:     0.0004 | Validation Accuracy: 0.6484\n",
      "Epoch 65, CIFAR-10 Batch 4:  Loss:     0.0003 | Validation Accuracy: 0.6470\n",
      "Epoch 65, CIFAR-10 Batch 5:  Loss:     0.0003 | Validation Accuracy: 0.6450\n",
      "Epoch 66, CIFAR-10 Batch 1:  Loss:     0.0004 | Validation Accuracy: 0.6450\n",
      "Epoch 66, CIFAR-10 Batch 2:  Loss:     0.0003 | Validation Accuracy: 0.6454\n",
      "Epoch 66, CIFAR-10 Batch 3:  Loss:     0.0003 | Validation Accuracy: 0.6476\n",
      "Epoch 66, CIFAR-10 Batch 4:  Loss:     0.0003 | Validation Accuracy: 0.6452\n",
      "Epoch 66, CIFAR-10 Batch 5:  Loss:     0.0002 | Validation Accuracy: 0.6462\n",
      "Epoch 67, CIFAR-10 Batch 1:  Loss:     0.0003 | Validation Accuracy: 0.6440\n",
      "Epoch 67, CIFAR-10 Batch 2:  Loss:     0.0003 | Validation Accuracy: 0.6454\n",
      "Epoch 67, CIFAR-10 Batch 3:  Loss:     0.0003 | Validation Accuracy: 0.6470\n",
      "Epoch 67, CIFAR-10 Batch 4:  Loss:     0.0003 | Validation Accuracy: 0.6464\n",
      "Epoch 67, CIFAR-10 Batch 5:  Loss:     0.0002 | Validation Accuracy: 0.6456\n",
      "Epoch 68, CIFAR-10 Batch 1:  Loss:     0.0003 | Validation Accuracy: 0.6448\n",
      "Epoch 68, CIFAR-10 Batch 2:  Loss:     0.0002 | Validation Accuracy: 0.6460\n",
      "Epoch 68, CIFAR-10 Batch 3:  Loss:     0.0003 | Validation Accuracy: 0.6466\n",
      "Epoch 68, CIFAR-10 Batch 4:  Loss:     0.0003 | Validation Accuracy: 0.6474\n",
      "Epoch 68, CIFAR-10 Batch 5:  Loss:     0.0002 | Validation Accuracy: 0.6462\n",
      "Epoch 69, CIFAR-10 Batch 1:  Loss:     0.0003 | Validation Accuracy: 0.6458\n",
      "Epoch 69, CIFAR-10 Batch 2:  Loss:     0.0002 | Validation Accuracy: 0.6458\n",
      "Epoch 69, CIFAR-10 Batch 3:  Loss:     0.0002 | Validation Accuracy: 0.6474\n",
      "Epoch 69, CIFAR-10 Batch 4:  Loss:     0.0002 | Validation Accuracy: 0.6468\n",
      "Epoch 69, CIFAR-10 Batch 5:  Loss:     0.0002 | Validation Accuracy: 0.6470\n",
      "Epoch 70, CIFAR-10 Batch 1:  Loss:     0.0002 | Validation Accuracy: 0.6464\n",
      "Epoch 70, CIFAR-10 Batch 2:  Loss:     0.0002 | Validation Accuracy: 0.6470\n",
      "Epoch 70, CIFAR-10 Batch 3:  Loss:     0.0002 | Validation Accuracy: 0.6478\n",
      "Epoch 70, CIFAR-10 Batch 4:  Loss:     0.0002 | Validation Accuracy: 0.6462\n",
      "Epoch 70, CIFAR-10 Batch 5:  Loss:     0.0002 | Validation Accuracy: 0.6466\n",
      "Epoch 71, CIFAR-10 Batch 1:  Loss:     0.0002 | Validation Accuracy: 0.6468\n",
      "Epoch 71, CIFAR-10 Batch 2:  Loss:     0.0002 | Validation Accuracy: 0.6472\n",
      "Epoch 71, CIFAR-10 Batch 3:  Loss:     0.0002 | Validation Accuracy: 0.6464\n",
      "Epoch 71, CIFAR-10 Batch 4:  Loss:     0.0002 | Validation Accuracy: 0.6466\n",
      "Epoch 71, CIFAR-10 Batch 5:  Loss:     0.0002 | Validation Accuracy: 0.6466\n",
      "Epoch 72, CIFAR-10 Batch 1:  Loss:     0.0002 | Validation Accuracy: 0.6468\n",
      "Epoch 72, CIFAR-10 Batch 2:  Loss:     0.0002 | Validation Accuracy: 0.6476\n",
      "Epoch 72, CIFAR-10 Batch 3:  Loss:     0.0002 | Validation Accuracy: 0.6468\n",
      "Epoch 72, CIFAR-10 Batch 4:  Loss:     0.0002 | Validation Accuracy: 0.6472\n",
      "Epoch 72, CIFAR-10 Batch 5:  Loss:     0.0002 | Validation Accuracy: 0.6490\n",
      "Epoch 73, CIFAR-10 Batch 1:  Loss:     0.0002 | Validation Accuracy: 0.6468\n",
      "Epoch 73, CIFAR-10 Batch 2:  Loss:     0.0002 | Validation Accuracy: 0.6480\n",
      "Epoch 73, CIFAR-10 Batch 3:  Loss:     0.0002 | Validation Accuracy: 0.6468\n",
      "Epoch 73, CIFAR-10 Batch 4:  Loss:     0.0002 | Validation Accuracy: 0.6476\n",
      "Epoch 73, CIFAR-10 Batch 5:  Loss:     0.0001 | Validation Accuracy: 0.6496\n",
      "Epoch 74, CIFAR-10 Batch 1:  Loss:     0.0002 | Validation Accuracy: 0.6466\n",
      "Epoch 74, CIFAR-10 Batch 2:  Loss:     0.0002 | Validation Accuracy: 0.6478\n",
      "Epoch 74, CIFAR-10 Batch 3:  Loss:     0.0001 | Validation Accuracy: 0.6474\n",
      "Epoch 74, CIFAR-10 Batch 4:  Loss:     0.0002 | Validation Accuracy: 0.6466\n",
      "Epoch 74, CIFAR-10 Batch 5:  Loss:     0.0001 | Validation Accuracy: 0.6496\n",
      "Epoch 75, CIFAR-10 Batch 1:  Loss:     0.0002 | Validation Accuracy: 0.6460\n",
      "Epoch 75, CIFAR-10 Batch 2:  Loss:     0.0002 | Validation Accuracy: 0.6484\n",
      "Epoch 75, CIFAR-10 Batch 3:  Loss:     0.0001 | Validation Accuracy: 0.6480\n",
      "Epoch 75, CIFAR-10 Batch 4:  Loss:     0.0001 | Validation Accuracy: 0.6468\n",
      "Epoch 75, CIFAR-10 Batch 5:  Loss:     0.0001 | Validation Accuracy: 0.6502\n",
      "Epoch 76, CIFAR-10 Batch 1:  Loss:     0.0001 | Validation Accuracy: 0.6478\n",
      "Epoch 76, CIFAR-10 Batch 2:  Loss:     0.0001 | Validation Accuracy: 0.6480\n",
      "Epoch 76, CIFAR-10 Batch 3:  Loss:     0.0001 | Validation Accuracy: 0.6476\n",
      "Epoch 76, CIFAR-10 Batch 4:  Loss:     0.0001 | Validation Accuracy: 0.6464\n",
      "Epoch 76, CIFAR-10 Batch 5:  Loss:     0.0001 | Validation Accuracy: 0.6506\n",
      "Epoch 77, CIFAR-10 Batch 1:  Loss:     0.0001 | Validation Accuracy: 0.6488\n",
      "Epoch 77, CIFAR-10 Batch 2:  Loss:     0.0001 | Validation Accuracy: 0.6472\n",
      "Epoch 77, CIFAR-10 Batch 3:  Loss:     0.0001 | Validation Accuracy: 0.6482\n",
      "Epoch 77, CIFAR-10 Batch 4:  Loss:     0.0001 | Validation Accuracy: 0.6472\n",
      "Epoch 77, CIFAR-10 Batch 5:  Loss:     0.0001 | Validation Accuracy: 0.6506\n",
      "Epoch 78, CIFAR-10 Batch 1:  Loss:     0.0001 | Validation Accuracy: 0.6480\n",
      "Epoch 78, CIFAR-10 Batch 2:  Loss:     0.0001 | Validation Accuracy: 0.6474\n",
      "Epoch 78, CIFAR-10 Batch 3:  Loss:     0.0001 | Validation Accuracy: 0.6480\n",
      "Epoch 78, CIFAR-10 Batch 4:  Loss:     0.0001 | Validation Accuracy: 0.6476\n",
      "Epoch 78, CIFAR-10 Batch 5:  Loss:     0.0001 | Validation Accuracy: 0.6506\n",
      "Epoch 79, CIFAR-10 Batch 1:  Loss:     0.0001 | Validation Accuracy: 0.6488\n",
      "Epoch 79, CIFAR-10 Batch 2:  Loss:     0.0001 | Validation Accuracy: 0.6478\n",
      "Epoch 79, CIFAR-10 Batch 3:  Loss:     0.0001 | Validation Accuracy: 0.6484\n",
      "Epoch 79, CIFAR-10 Batch 4:  Loss:     0.0001 | Validation Accuracy: 0.6472\n",
      "Epoch 79, CIFAR-10 Batch 5:  Loss:     0.0001 | Validation Accuracy: 0.6508\n",
      "Epoch 80, CIFAR-10 Batch 1:  Loss:     0.0001 | Validation Accuracy: 0.6492\n",
      "Epoch 80, CIFAR-10 Batch 2:  Loss:     0.0001 | Validation Accuracy: 0.6484\n",
      "Epoch 80, CIFAR-10 Batch 3:  Loss:     0.0001 | Validation Accuracy: 0.6496\n",
      "Epoch 80, CIFAR-10 Batch 4:  Loss:     0.0001 | Validation Accuracy: 0.6476\n",
      "Epoch 80, CIFAR-10 Batch 5:  Loss:     0.0001 | Validation Accuracy: 0.6512\n",
      "Epoch 81, CIFAR-10 Batch 1:  Loss:     0.0001 | Validation Accuracy: 0.6494\n",
      "Epoch 81, CIFAR-10 Batch 2:  Loss:     0.0001 | Validation Accuracy: 0.6482\n",
      "Epoch 81, CIFAR-10 Batch 3:  Loss:     0.0001 | Validation Accuracy: 0.6496\n",
      "Epoch 81, CIFAR-10 Batch 4:  Loss:     0.0001 | Validation Accuracy: 0.6474\n",
      "Epoch 81, CIFAR-10 Batch 5:  Loss:     0.0001 | Validation Accuracy: 0.6504\n",
      "Epoch 82, CIFAR-10 Batch 1:  Loss:     0.0001 | Validation Accuracy: 0.6496\n",
      "Epoch 82, CIFAR-10 Batch 2:  Loss:     0.0001 | Validation Accuracy: 0.6486\n",
      "Epoch 82, CIFAR-10 Batch 3:  Loss:     0.0001 | Validation Accuracy: 0.6496\n",
      "Epoch 82, CIFAR-10 Batch 4:  Loss:     0.0001 | Validation Accuracy: 0.6478\n",
      "Epoch 82, CIFAR-10 Batch 5:  Loss:     0.0001 | Validation Accuracy: 0.6502\n",
      "Epoch 83, CIFAR-10 Batch 1:  Loss:     0.0001 | Validation Accuracy: 0.6488\n",
      "Epoch 83, CIFAR-10 Batch 2:  Loss:     0.0001 | Validation Accuracy: 0.6482\n",
      "Epoch 83, CIFAR-10 Batch 3:  Loss:     0.0001 | Validation Accuracy: 0.6500\n",
      "Epoch 83, CIFAR-10 Batch 4:  Loss:     0.0001 | Validation Accuracy: 0.6478\n",
      "Epoch 83, CIFAR-10 Batch 5:  Loss:     0.0001 | Validation Accuracy: 0.6498\n",
      "Epoch 84, CIFAR-10 Batch 1:  Loss:     0.0001 | Validation Accuracy: 0.6486\n",
      "Epoch 84, CIFAR-10 Batch 2:  Loss:     0.0001 | Validation Accuracy: 0.6488\n",
      "Epoch 84, CIFAR-10 Batch 3:  Loss:     0.0001 | Validation Accuracy: 0.6500\n",
      "Epoch 84, CIFAR-10 Batch 4:  Loss:     0.0001 | Validation Accuracy: 0.6480\n",
      "Epoch 84, CIFAR-10 Batch 5:  Loss:     0.0001 | Validation Accuracy: 0.6496\n",
      "Epoch 85, CIFAR-10 Batch 1:  Loss:     0.0001 | Validation Accuracy: 0.6486\n",
      "Epoch 85, CIFAR-10 Batch 2:  Loss:     0.0001 | Validation Accuracy: 0.6488\n",
      "Epoch 85, CIFAR-10 Batch 3:  Loss:     0.0001 | Validation Accuracy: 0.6504\n",
      "Epoch 85, CIFAR-10 Batch 4:  Loss:     0.0001 | Validation Accuracy: 0.6484\n",
      "Epoch 85, CIFAR-10 Batch 5:  Loss:     0.0001 | Validation Accuracy: 0.6508\n",
      "Epoch 86, CIFAR-10 Batch 1:  Loss:     0.0001 | Validation Accuracy: 0.6488\n",
      "Epoch 86, CIFAR-10 Batch 2:  Loss:     0.0001 | Validation Accuracy: 0.6484\n",
      "Epoch 86, CIFAR-10 Batch 3:  Loss:     0.0001 | Validation Accuracy: 0.6504\n",
      "Epoch 86, CIFAR-10 Batch 4:  Loss:     0.0001 | Validation Accuracy: 0.6486\n",
      "Epoch 86, CIFAR-10 Batch 5:  Loss:     0.0001 | Validation Accuracy: 0.6504\n",
      "Epoch 87, CIFAR-10 Batch 1:  Loss:     0.0001 | Validation Accuracy: 0.6496\n",
      "Epoch 87, CIFAR-10 Batch 2:  Loss:     0.0001 | Validation Accuracy: 0.6486\n",
      "Epoch 87, CIFAR-10 Batch 3:  Loss:     0.0001 | Validation Accuracy: 0.6502\n",
      "Epoch 87, CIFAR-10 Batch 4:  Loss:     0.0001 | Validation Accuracy: 0.6488\n",
      "Epoch 87, CIFAR-10 Batch 5:  Loss:     0.0001 | Validation Accuracy: 0.6502\n",
      "Epoch 88, CIFAR-10 Batch 1:  Loss:     0.0001 | Validation Accuracy: 0.6498\n",
      "Epoch 88, CIFAR-10 Batch 2:  Loss:     0.0001 | Validation Accuracy: 0.6488\n",
      "Epoch 88, CIFAR-10 Batch 3:  Loss:     0.0001 | Validation Accuracy: 0.6508\n",
      "Epoch 88, CIFAR-10 Batch 4:  Loss:     0.0001 | Validation Accuracy: 0.6494\n",
      "Epoch 88, CIFAR-10 Batch 5:  Loss:     0.0001 | Validation Accuracy: 0.6502\n",
      "Epoch 89, CIFAR-10 Batch 1:  Loss:     0.0001 | Validation Accuracy: 0.6510\n",
      "Epoch 89, CIFAR-10 Batch 2:  Loss:     0.0001 | Validation Accuracy: 0.6486\n",
      "Epoch 89, CIFAR-10 Batch 3:  Loss:     0.0001 | Validation Accuracy: 0.6500\n",
      "Epoch 89, CIFAR-10 Batch 4:  Loss:     0.0001 | Validation Accuracy: 0.6500\n",
      "Epoch 89, CIFAR-10 Batch 5:  Loss:     0.0001 | Validation Accuracy: 0.6498\n",
      "Epoch 90, CIFAR-10 Batch 1:  Loss:     0.0001 | Validation Accuracy: 0.6506\n",
      "Epoch 90, CIFAR-10 Batch 2:  Loss:     0.0001 | Validation Accuracy: 0.6488\n",
      "Epoch 90, CIFAR-10 Batch 3:  Loss:     0.0001 | Validation Accuracy: 0.6504\n",
      "Epoch 90, CIFAR-10 Batch 4:  Loss:     0.0001 | Validation Accuracy: 0.6502\n",
      "Epoch 90, CIFAR-10 Batch 5:  Loss:     0.0001 | Validation Accuracy: 0.6498\n",
      "Epoch 91, CIFAR-10 Batch 1:  Loss:     0.0001 | Validation Accuracy: 0.6508\n",
      "Epoch 91, CIFAR-10 Batch 2:  Loss:     0.0001 | Validation Accuracy: 0.6484\n",
      "Epoch 91, CIFAR-10 Batch 3:  Loss:     0.0001 | Validation Accuracy: 0.6502\n",
      "Epoch 91, CIFAR-10 Batch 4:  Loss:     0.0001 | Validation Accuracy: 0.6506\n",
      "Epoch 91, CIFAR-10 Batch 5:  Loss:     0.0000 | Validation Accuracy: 0.6498\n",
      "Epoch 92, CIFAR-10 Batch 1:  Loss:     0.0001 | Validation Accuracy: 0.6506\n",
      "Epoch 92, CIFAR-10 Batch 2:  Loss:     0.0001 | Validation Accuracy: 0.6484\n",
      "Epoch 92, CIFAR-10 Batch 3:  Loss:     0.0000 | Validation Accuracy: 0.6500\n",
      "Epoch 92, CIFAR-10 Batch 4:  Loss:     0.0001 | Validation Accuracy: 0.6502\n",
      "Epoch 92, CIFAR-10 Batch 5:  Loss:     0.0000 | Validation Accuracy: 0.6502\n",
      "Epoch 93, CIFAR-10 Batch 1:  Loss:     0.0001 | Validation Accuracy: 0.6510\n",
      "Epoch 93, CIFAR-10 Batch 2:  Loss:     0.0001 | Validation Accuracy: 0.6488\n",
      "Epoch 93, CIFAR-10 Batch 3:  Loss:     0.0000 | Validation Accuracy: 0.6496\n",
      "Epoch 93, CIFAR-10 Batch 4:  Loss:     0.0001 | Validation Accuracy: 0.6508\n",
      "Epoch 93, CIFAR-10 Batch 5:  Loss:     0.0000 | Validation Accuracy: 0.6500\n",
      "Epoch 94, CIFAR-10 Batch 1:  Loss:     0.0001 | Validation Accuracy: 0.6508\n",
      "Epoch 94, CIFAR-10 Batch 2:  Loss:     0.0001 | Validation Accuracy: 0.6492\n",
      "Epoch 94, CIFAR-10 Batch 3:  Loss:     0.0000 | Validation Accuracy: 0.6492\n",
      "Epoch 94, CIFAR-10 Batch 4:  Loss:     0.0001 | Validation Accuracy: 0.6496\n",
      "Epoch 94, CIFAR-10 Batch 5:  Loss:     0.0000 | Validation Accuracy: 0.6508\n",
      "Epoch 95, CIFAR-10 Batch 1:  Loss:     0.0001 | Validation Accuracy: 0.6506\n",
      "Epoch 95, CIFAR-10 Batch 2:  Loss:     0.0001 | Validation Accuracy: 0.6486\n",
      "Epoch 95, CIFAR-10 Batch 3:  Loss:     0.0000 | Validation Accuracy: 0.6496\n",
      "Epoch 95, CIFAR-10 Batch 4:  Loss:     0.0000 | Validation Accuracy: 0.6498\n",
      "Epoch 95, CIFAR-10 Batch 5:  Loss:     0.0000 | Validation Accuracy: 0.6510\n",
      "Epoch 96, CIFAR-10 Batch 1:  Loss:     0.0000 | Validation Accuracy: 0.6506\n",
      "Epoch 96, CIFAR-10 Batch 2:  Loss:     0.0000 | Validation Accuracy: 0.6492\n",
      "Epoch 96, CIFAR-10 Batch 3:  Loss:     0.0000 | Validation Accuracy: 0.6496\n",
      "Epoch 96, CIFAR-10 Batch 4:  Loss:     0.0000 | Validation Accuracy: 0.6496\n",
      "Epoch 96, CIFAR-10 Batch 5:  Loss:     0.0000 | Validation Accuracy: 0.6506\n",
      "Epoch 97, CIFAR-10 Batch 1:  Loss:     0.0000 | Validation Accuracy: 0.6496\n",
      "Epoch 97, CIFAR-10 Batch 2:  Loss:     0.0000 | Validation Accuracy: 0.6498\n",
      "Epoch 97, CIFAR-10 Batch 3:  Loss:     0.0000 | Validation Accuracy: 0.6492\n",
      "Epoch 97, CIFAR-10 Batch 4:  Loss:     0.0000 | Validation Accuracy: 0.6498\n",
      "Epoch 97, CIFAR-10 Batch 5:  Loss:     0.0000 | Validation Accuracy: 0.6506\n",
      "Epoch 98, CIFAR-10 Batch 1:  Loss:     0.0000 | Validation Accuracy: 0.6498\n",
      "Epoch 98, CIFAR-10 Batch 2:  Loss:     0.0000 | Validation Accuracy: 0.6494\n",
      "Epoch 98, CIFAR-10 Batch 3:  Loss:     0.0000 | Validation Accuracy: 0.6490\n",
      "Epoch 98, CIFAR-10 Batch 4:  Loss:     0.0000 | Validation Accuracy: 0.6494\n",
      "Epoch 98, CIFAR-10 Batch 5:  Loss:     0.0000 | Validation Accuracy: 0.6510\n",
      "Epoch 99, CIFAR-10 Batch 1:  Loss:     0.0000 | Validation Accuracy: 0.6496\n",
      "Epoch 99, CIFAR-10 Batch 2:  Loss:     0.0000 | Validation Accuracy: 0.6496\n",
      "Epoch 99, CIFAR-10 Batch 3:  Loss:     0.0000 | Validation Accuracy: 0.6492\n",
      "Epoch 99, CIFAR-10 Batch 4:  Loss:     0.0000 | Validation Accuracy: 0.6498\n",
      "Epoch 99, CIFAR-10 Batch 5:  Loss:     0.0000 | Validation Accuracy: 0.6514\n",
      "Epoch 100, CIFAR-10 Batch 1:  Loss:     0.0000 | Validation Accuracy: 0.6492\n",
      "Epoch 100, CIFAR-10 Batch 2:  Loss:     0.0000 | Validation Accuracy: 0.6496\n",
      "Epoch 100, CIFAR-10 Batch 3:  Loss:     0.0000 | Validation Accuracy: 0.6490\n",
      "Epoch 100, CIFAR-10 Batch 4:  Loss:     0.0000 | Validation Accuracy: 0.6500\n",
      "Epoch 100, CIFAR-10 Batch 5:  Loss:     0.0000 | Validation Accuracy: 0.6516\n"
     ]
    }
   ],
   "source": [
    "\"\"\"\n",
    "DON'T MODIFY ANYTHING IN THIS CELL\n",
    "\"\"\"\n",
    "save_model_path = './image_classification'\n",
    "\n",
    "print('Training...')\n",
    "with tf.Session() as sess:\n",
    "    # Initializing the variables\n",
    "    sess.run(tf.global_variables_initializer())\n",
    "    \n",
    "    # Training cycle\n",
    "    for epoch in range(epochs):\n",
    "        # Loop over all batches\n",
    "        n_batches = 5\n",
    "        for batch_i in range(1, n_batches + 1):\n",
    "            for batch_features, batch_labels in helper.load_preprocess_training_batch(batch_i, batch_size):\n",
    "                train_neural_network(sess, optimizer, keep_probability, batch_features, batch_labels)\n",
    "            print('Epoch {:>2}, CIFAR-10 Batch {}:  '.format(epoch + 1, batch_i), end='')\n",
    "            print_stats(sess, batch_features, batch_labels, cost, accuracy)\n",
    "            \n",
    "    # Save Model\n",
    "    saver = tf.train.Saver()\n",
    "    save_path = saver.save(sess, save_model_path)"
   ]
  },
  {
   "cell_type": "markdown",
   "metadata": {
    "deletable": true,
    "editable": true
   },
   "source": [
    "# Checkpoint\n",
    "The model has been saved to disk.\n",
    "## Test Model\n",
    "Test your model against the test dataset.  This will be your final accuracy. You should have an accuracy greater than 50%. If you don't, keep tweaking the model architecture and parameters."
   ]
  },
  {
   "cell_type": "code",
   "execution_count": 127,
   "metadata": {
    "collapsed": false,
    "deletable": true,
    "editable": true
   },
   "outputs": [
    {
     "name": "stdout",
     "output_type": "stream",
     "text": [
      "Testing Accuracy: 0.6589728832244873\n",
      "\n"
     ]
    },
    {
     "data": {
      "image/png": "[encoded data removed]",
      "text/plain": [
       "<matplotlib.figure.Figure at 0x7fc12e1d1cf8>"
      ]
     },
     "metadata": {
      "image/png": {
       "height": 319,
       "width": 349
      }
     },
     "output_type": "display_data"
    }
   ],
   "source": [
    "\"\"\"\n",
    "DON'T MODIFY ANYTHING IN THIS CELL\n",
    "\"\"\"\n",
    "%matplotlib inline\n",
    "%config InlineBackend.figure_format = 'retina'\n",
    "\n",
    "import tensorflow as tf\n",
    "import pickle\n",
    "import helper\n",
    "import random\n",
    "\n",
    "# Set batch size if not already set\n",
    "try:\n",
    "    if batch_size:\n",
    "        pass\n",
    "except NameError:\n",
    "    batch_size = 64\n",
    "\n",
    "save_model_path = './image_classification'\n",
    "n_samples = 4\n",
    "top_n_predictions = 3\n",
    "\n",
    "def test_model():\n",
    "    \"\"\"\n",
    "    Test the saved model against the test dataset\n",
    "    \"\"\"\n",
    "\n",
    "    test_features, test_labels = pickle.load(open('preprocess_test.p', mode='rb'))\n",
    "    loaded_graph = tf.Graph()\n",
    "\n",
    "    with tf.Session(graph=loaded_graph) as sess:\n",
    "        # Load model\n",
    "        loader = tf.train.import_meta_graph(save_model_path + '.meta')\n",
    "        loader.restore(sess, save_model_path)\n",
    "\n",
    "        # Get Tensors from loaded model\n",
    "        loaded_x = loaded_graph.get_tensor_by_name('x:0')\n",
    "        loaded_y = loaded_graph.get_tensor_by_name('y:0')\n",
    "        loaded_keep_prob = loaded_graph.get_tensor_by_name('keep_prob:0')\n",
    "        loaded_logits = loaded_graph.get_tensor_by_name('logits:0')\n",
    "        loaded_acc = loaded_graph.get_tensor_by_name('accuracy:0')\n",
    "        \n",
    "        # Get accuracy in batches for memory limitations\n",
    "        test_batch_acc_total = 0\n",
    "        test_batch_count = 0\n",
    "        \n",
    "        for test_feature_batch, test_label_batch in helper.batch_features_labels(test_features, test_labels, batch_size):\n",
    "            test_batch_acc_total += sess.run(\n",
    "                loaded_acc,\n",
    "                feed_dict={loaded_x: test_feature_batch, loaded_y: test_label_batch, loaded_keep_prob: 1.0})\n",
    "            test_batch_count += 1\n",
    "\n",
    "        print('Testing Accuracy: {}\\n'.format(test_batch_acc_total/test_batch_count))\n",
    "\n",
    "        # Print Random Samples\n",
    "        random_test_features, random_test_labels = tuple(zip(*random.sample(list(zip(test_features, test_labels)), n_samples)))\n",
    "        random_test_predictions = sess.run(\n",
    "            tf.nn.top_k(tf.nn.softmax(loaded_logits), top_n_predictions),\n",
    "            feed_dict={loaded_x: random_test_features, loaded_y: random_test_labels, loaded_keep_prob: 1.0})\n",
    "        helper.display_image_predictions(random_test_features, random_test_labels, random_test_predictions)\n",
    "\n",
    "\n",
    "test_model()"
   ]
  },
  {
   "cell_type": "markdown",
   "metadata": {
    "deletable": true,
    "editable": true
   },
   "source": [
    "## Why 50-80% Accuracy?\n",
    "You might be wondering why you can't get an accuracy any higher. First things first, 50% isn't bad for a simple CNN.  Pure guessing would get you 10% accuracy. However, you might notice people are getting scores [well above 80%](http://rodrigob.github.io/are_we_there_yet/build/classification_datasets_results.html#43494641522d3130).  That's because we haven't taught you all there is to know about neural networks. We still need to cover a few more techniques.\n",
    "## Submitting This Project\n",
    "When submitting this project, make sure to run all the cells before saving the notebook.  Save the notebook file as \"dlnd_image_classification.ipynb\" and save it as a HTML file under \"File\" -> \"Download as\".  Include the \"helper.py\" and \"problem_unittests.py\" files in your submission."
   ]
  }
 ],
 "metadata": {
  "kernelspec": {
   "display_name": "Python 3",
   "language": "python",
   "name": "python3"
  },
  "language_info": {
   "codemirror_mode": {
    "name": "ipython",
    "version": 3
   },
   "file_extension": ".py",
   "mimetype": "text/x-python",
   "name": "python",
   "nbconvert_exporter": "python",
   "pygments_lexer": "ipython3",
   "version": "3.5.2"
  },
  "widgets": {
   "state": {},
   "version": "1.1.2"
  }
 },
 "nbformat": 4,
 "nbformat_minor": 1
}
